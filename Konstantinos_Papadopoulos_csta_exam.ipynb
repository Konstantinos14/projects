{
  "cells": [
    {
      "cell_type": "markdown",
      "metadata": {
        "id": "v_aHmV0ORRfZ"
      },
      "source": [
        "# **Sentiment Analysis with Scikit Learn**\n",
        "\n"
      ]
    },
    {
      "cell_type": "markdown",
      "metadata": {
        "id": "e38tT6zaROTp"
      },
      "source": [
        "Sentiment analysis is an application of data mining which has as a goal to extract the opinion of the writer about something and clasiffy it as positive or negative state. Thus the importance of this application is great since its use is widely applied to voice-of-cusstomer materials such as reviews of products or services with the purpose of helping companies in the decision-making process of improving their products-services, stop their production or maintain the good quality of them. Of course this application can also be expanded to the social factor by getting also the opinion of people about the current political situation of their country, if they are satisfied with the educational and health system or in general with any social matter that concerns them.\n",
        "\n",
        "The main ways of conducting a sentiment analysis are three:\n",
        "\n",
        "*   The machine learning-based approach\n",
        "\n",
        "*   The lexicon-based approach\n",
        "*   The hybrid approach which is a combination of the two above mentioned approaches\n",
        "\n",
        "In this project I am trying to create a sentiment analysis classifier for greek language with the help of Scikit learn which is an open source machine learning library that supports supervised and unsupervised learning. It also provides various tools for model fitting, data preprocessing, model selection, model evaluation, and many other utilities. Thus i followed the machine learning-based approach.\n",
        "\n",
        "\n",
        "\n",
        "\n",
        "\n",
        "\n",
        "\n",
        "\n"
      ]
    },
    {
      "cell_type": "markdown",
      "metadata": {
        "id": "iV6i4My4TFfR"
      },
      "source": [
        "# **Dataset**"
      ]
    },
    {
      "cell_type": "markdown",
      "metadata": {
        "id": "sm4oZPA4TSmZ"
      },
      "source": [
        "The dataset 'Athinorama_movies_dataset' that I used in order to train and test  this classifier contains 131108 greek reviews of movies and has 15 columns. It  is accessible and downloable via kaggle in a zip csv format and it was selected due to its efficient size."
      ]
    },
    {
      "cell_type": "code",
      "execution_count": null,
      "metadata": {
        "colab": {
          "base_uri": "https://localhost:8080/"
        },
        "id": "HC9NhAjOPV3s",
        "outputId": "39059b9b-4265-4750-dc20-3bf953f1cbd8"
      },
      "outputs": [
        {
          "output_type": "stream",
          "name": "stdout",
          "text": [
            "Looking in indexes: https://pypi.org/simple, https://us-python.pkg.dev/colab-wheels/public/simple/\n",
            "Requirement already satisfied: kaggle in /usr/local/lib/python3.7/dist-packages (1.5.12)\n",
            "Requirement already satisfied: python-dateutil in /usr/local/lib/python3.7/dist-packages (from kaggle) (2.8.2)\n",
            "Requirement already satisfied: requests in /usr/local/lib/python3.7/dist-packages (from kaggle) (2.23.0)\n",
            "Requirement already satisfied: python-slugify in /usr/local/lib/python3.7/dist-packages (from kaggle) (6.1.2)\n",
            "Requirement already satisfied: six>=1.10 in /usr/local/lib/python3.7/dist-packages (from kaggle) (1.15.0)\n",
            "Requirement already satisfied: tqdm in /usr/local/lib/python3.7/dist-packages (from kaggle) (4.64.0)\n",
            "Requirement already satisfied: certifi in /usr/local/lib/python3.7/dist-packages (from kaggle) (2022.6.15)\n",
            "Requirement already satisfied: urllib3 in /usr/local/lib/python3.7/dist-packages (from kaggle) (1.24.3)\n",
            "Requirement already satisfied: text-unidecode>=1.3 in /usr/local/lib/python3.7/dist-packages (from python-slugify->kaggle) (1.3)\n",
            "Requirement already satisfied: chardet<4,>=3.0.2 in /usr/local/lib/python3.7/dist-packages (from requests->kaggle) (3.0.4)\n",
            "Requirement already satisfied: idna<3,>=2.5 in /usr/local/lib/python3.7/dist-packages (from requests->kaggle) (2.10)\n"
          ]
        }
      ],
      "source": [
        " # instal the kaggle library\n",
        "! pip install kaggle"
      ]
    },
    {
      "cell_type": "code",
      "execution_count": null,
      "metadata": {
        "id": "ADN4Ollp0x5k"
      },
      "outputs": [],
      "source": [
        "# make directory named 'Kaggle'\n",
        "! mkdir ~/.kaggle"
      ]
    },
    {
      "cell_type": "code",
      "execution_count": null,
      "metadata": {
        "id": "epSF1gSJPhnT"
      },
      "outputs": [],
      "source": [
        "#copy the 'kagle.json' into the directory\n",
        "! cp kaggle.json ~/.kaggle/\n"
      ]
    },
    {
      "cell_type": "code",
      "execution_count": null,
      "metadata": {
        "id": "56UYuQkmPjk7"
      },
      "outputs": [],
      "source": [
        "#allocate the required permission for this file\n",
        "! chmod 600 ~/.kaggle/kaggle.json\n"
      ]
    },
    {
      "cell_type": "markdown",
      "metadata": {
        "id": "avBT8pAEs7oK"
      },
      "source": [
        "# **Download and Unzip the data**"
      ]
    },
    {
      "cell_type": "code",
      "execution_count": null,
      "metadata": {
        "colab": {
          "base_uri": "https://localhost:8080/"
        },
        "id": "B5UFspViPmDO",
        "outputId": "21800318-3cb9-4ce0-c6e4-8e5fd0e09811"
      },
      "outputs": [
        {
          "output_type": "stream",
          "name": "stdout",
          "text": [
            "Downloading greek-movies-dataset.zip to /content\n",
            " 32% 9.00M/28.2M [00:00<00:00, 23.3MB/s]\n",
            "100% 28.2M/28.2M [00:00<00:00, 62.4MB/s]\n"
          ]
        }
      ],
      "source": [
        "# download the dataset\n",
        "! kaggle datasets download nikosfragkis/greek-movies-dataset"
      ]
    },
    {
      "cell_type": "code",
      "execution_count": null,
      "metadata": {
        "colab": {
          "base_uri": "https://localhost:8080/"
        },
        "id": "WQJZKe9CPqpn",
        "outputId": "09ddfda6-a940-4af3-d51b-9833870363eb"
      },
      "outputs": [
        {
          "output_type": "stream",
          "name": "stdout",
          "text": [
            "Archive:  greek-movies-dataset.zip\n",
            "  inflating: Athinorama_movies_dataset.csv  \n"
          ]
        }
      ],
      "source": [
        "# unzip the dataset\n",
        "! unzip 'greek-movies-dataset.zip'"
      ]
    },
    {
      "cell_type": "code",
      "execution_count": null,
      "metadata": {
        "id": "bF0GpKuLQD-Y"
      },
      "outputs": [],
      "source": [
        "# Import the required libraries\n",
        "import pandas as pd\n",
        "import numpy as np"
      ]
    },
    {
      "cell_type": "code",
      "execution_count": null,
      "metadata": {
        "id": "Dmm4w2kBQLtO"
      },
      "outputs": [],
      "source": [
        "# read the dataset\n",
        "df = pd.read_csv('Athinorama_movies_dataset.csv')"
      ]
    },
    {
      "cell_type": "code",
      "execution_count": null,
      "metadata": {
        "colab": {
          "base_uri": "https://localhost:8080/",
          "height": 580
        },
        "id": "1cERgryQQMqZ",
        "outputId": "a8f4a2bf-51b4-43be-f7c7-02bebb92d225"
      },
      "outputs": [
        {
          "output_type": "execute_result",
          "data": {
            "text/plain": [
              "   id number                                    greek title  \\\n",
              "0          0              Και Τώρα Κάτι Τελείως Διαφορετικό   \n",
              "1          1              Και Τώρα Κάτι Τελείως Διαφορετικό   \n",
              "2          2  Το Αδελφάτο των Ιπποτών της Ελεεινής Τραπέζης   \n",
              "3          3  Το Αδελφάτο των Ιπποτών της Ελεεινής Τραπέζης   \n",
              "4          4  Το Αδελφάτο των Ιπποτών της Ελεεινής Τραπέζης   \n",
              "\n",
              "                               original title category  \\\n",
              "0  AND NOW FOR SOMETHING COMPLETELY DIFFERENT  Κωμωδία   \n",
              "1  AND NOW FOR SOMETHING COMPLETELY DIFFERENT  Κωμωδία   \n",
              "2             Monty Python and the Holy Grail  Κωμωδία   \n",
              "3             Monty Python and the Holy Grail  Κωμωδία   \n",
              "4             Monty Python and the Holy Grail  Κωμωδία   \n",
              "\n",
              "                     director  movie lenght  movie date             author  \\\n",
              "0               Ίαν Μακ Νότον            88        1971             Marvin   \n",
              "1               Ίαν Μακ Νότον            88        1971  Χριστόφορος Ζώνας   \n",
              "2  Τέρι Γκίλιαμ, Τέρι Τζόουνς            91        1975             Vandim   \n",
              "3  Τέρι Γκίλιαμ, Τέρι Τζόουνς            91        1975                 dH   \n",
              "4  Τέρι Γκίλιαμ, Τέρι Τζόουνς            91        1975            Orestis   \n",
              "\n",
              "   review date                                             review       stars  \\\n",
              "0         2002  Φοβερή η σύλληψη του χιούμορ από τους Python''...  4 αστεράκΑ   \n",
              "1         2002  Από τις καλύτερς στιγμές των Μ.Π., ισάξιο μόνο...  5 αστεράκΑ   \n",
              "2         2020  Κλασικό! Από τις καλύτερες και ανατρεπτικότερε...  4 αστεράκΑ   \n",
              "3         2015  Μου θυμιζει τα κόμικ του Αστερίξ που όσο μεγάλ...  5 αστεράκΑ   \n",
              "4         2014                                      Το κάτι άλλο!  5 αστεράκΑ   \n",
              "\n",
              "   label  mean of stars  number of reviews  \\\n",
              "0    4.0            4.5                  2   \n",
              "1    5.0            4.5                  2   \n",
              "2    4.0            4.0                 32   \n",
              "3    5.0            4.0                 32   \n",
              "4    5.0            4.0                 32   \n",
              "\n",
              "                                                 url  \n",
              "0  https://www.athinorama.gr/cinema/movieratings....  \n",
              "1  https://www.athinorama.gr/cinema/movieratings....  \n",
              "2  https://www.athinorama.gr/cinema/movieratings....  \n",
              "3  https://www.athinorama.gr/cinema/movieratings....  \n",
              "4  https://www.athinorama.gr/cinema/movieratings....  "
            ],
            "text/html": [
              "\n",
              "  <div id=\"df-09f16760-7a2a-4fb4-90ae-426dee59a7cb\">\n",
              "    <div class=\"colab-df-container\">\n",
              "      <div>\n",
              "<style scoped>\n",
              "    .dataframe tbody tr th:only-of-type {\n",
              "        vertical-align: middle;\n",
              "    }\n",
              "\n",
              "    .dataframe tbody tr th {\n",
              "        vertical-align: top;\n",
              "    }\n",
              "\n",
              "    .dataframe thead th {\n",
              "        text-align: right;\n",
              "    }\n",
              "</style>\n",
              "<table border=\"1\" class=\"dataframe\">\n",
              "  <thead>\n",
              "    <tr style=\"text-align: right;\">\n",
              "      <th></th>\n",
              "      <th>id number</th>\n",
              "      <th>greek title</th>\n",
              "      <th>original title</th>\n",
              "      <th>category</th>\n",
              "      <th>director</th>\n",
              "      <th>movie lenght</th>\n",
              "      <th>movie date</th>\n",
              "      <th>author</th>\n",
              "      <th>review date</th>\n",
              "      <th>review</th>\n",
              "      <th>stars</th>\n",
              "      <th>label</th>\n",
              "      <th>mean of stars</th>\n",
              "      <th>number of reviews</th>\n",
              "      <th>url</th>\n",
              "    </tr>\n",
              "  </thead>\n",
              "  <tbody>\n",
              "    <tr>\n",
              "      <th>0</th>\n",
              "      <td>0</td>\n",
              "      <td>Και Τώρα Κάτι Τελείως Διαφορετικό</td>\n",
              "      <td>AND NOW FOR SOMETHING COMPLETELY DIFFERENT</td>\n",
              "      <td>Κωμωδία</td>\n",
              "      <td>Ίαν Μακ Νότον</td>\n",
              "      <td>88</td>\n",
              "      <td>1971</td>\n",
              "      <td>Marvin</td>\n",
              "      <td>2002</td>\n",
              "      <td>Φοβερή η σύλληψη του χιούμορ από τους Python''...</td>\n",
              "      <td>4 αστεράκΑ</td>\n",
              "      <td>4.0</td>\n",
              "      <td>4.5</td>\n",
              "      <td>2</td>\n",
              "      <td>https://www.athinorama.gr/cinema/movieratings....</td>\n",
              "    </tr>\n",
              "    <tr>\n",
              "      <th>1</th>\n",
              "      <td>1</td>\n",
              "      <td>Και Τώρα Κάτι Τελείως Διαφορετικό</td>\n",
              "      <td>AND NOW FOR SOMETHING COMPLETELY DIFFERENT</td>\n",
              "      <td>Κωμωδία</td>\n",
              "      <td>Ίαν Μακ Νότον</td>\n",
              "      <td>88</td>\n",
              "      <td>1971</td>\n",
              "      <td>Χριστόφορος Ζώνας</td>\n",
              "      <td>2002</td>\n",
              "      <td>Από τις καλύτερς στιγμές των Μ.Π., ισάξιο μόνο...</td>\n",
              "      <td>5 αστεράκΑ</td>\n",
              "      <td>5.0</td>\n",
              "      <td>4.5</td>\n",
              "      <td>2</td>\n",
              "      <td>https://www.athinorama.gr/cinema/movieratings....</td>\n",
              "    </tr>\n",
              "    <tr>\n",
              "      <th>2</th>\n",
              "      <td>2</td>\n",
              "      <td>Το Αδελφάτο των Ιπποτών της Ελεεινής Τραπέζης</td>\n",
              "      <td>Monty Python and the Holy Grail</td>\n",
              "      <td>Κωμωδία</td>\n",
              "      <td>Τέρι Γκίλιαμ, Τέρι Τζόουνς</td>\n",
              "      <td>91</td>\n",
              "      <td>1975</td>\n",
              "      <td>Vandim</td>\n",
              "      <td>2020</td>\n",
              "      <td>Κλασικό! Από τις καλύτερες και ανατρεπτικότερε...</td>\n",
              "      <td>4 αστεράκΑ</td>\n",
              "      <td>4.0</td>\n",
              "      <td>4.0</td>\n",
              "      <td>32</td>\n",
              "      <td>https://www.athinorama.gr/cinema/movieratings....</td>\n",
              "    </tr>\n",
              "    <tr>\n",
              "      <th>3</th>\n",
              "      <td>3</td>\n",
              "      <td>Το Αδελφάτο των Ιπποτών της Ελεεινής Τραπέζης</td>\n",
              "      <td>Monty Python and the Holy Grail</td>\n",
              "      <td>Κωμωδία</td>\n",
              "      <td>Τέρι Γκίλιαμ, Τέρι Τζόουνς</td>\n",
              "      <td>91</td>\n",
              "      <td>1975</td>\n",
              "      <td>dH</td>\n",
              "      <td>2015</td>\n",
              "      <td>Μου θυμιζει τα κόμικ του Αστερίξ που όσο μεγάλ...</td>\n",
              "      <td>5 αστεράκΑ</td>\n",
              "      <td>5.0</td>\n",
              "      <td>4.0</td>\n",
              "      <td>32</td>\n",
              "      <td>https://www.athinorama.gr/cinema/movieratings....</td>\n",
              "    </tr>\n",
              "    <tr>\n",
              "      <th>4</th>\n",
              "      <td>4</td>\n",
              "      <td>Το Αδελφάτο των Ιπποτών της Ελεεινής Τραπέζης</td>\n",
              "      <td>Monty Python and the Holy Grail</td>\n",
              "      <td>Κωμωδία</td>\n",
              "      <td>Τέρι Γκίλιαμ, Τέρι Τζόουνς</td>\n",
              "      <td>91</td>\n",
              "      <td>1975</td>\n",
              "      <td>Orestis</td>\n",
              "      <td>2014</td>\n",
              "      <td>Το κάτι άλλο!</td>\n",
              "      <td>5 αστεράκΑ</td>\n",
              "      <td>5.0</td>\n",
              "      <td>4.0</td>\n",
              "      <td>32</td>\n",
              "      <td>https://www.athinorama.gr/cinema/movieratings....</td>\n",
              "    </tr>\n",
              "  </tbody>\n",
              "</table>\n",
              "</div>\n",
              "      <button class=\"colab-df-convert\" onclick=\"convertToInteractive('df-09f16760-7a2a-4fb4-90ae-426dee59a7cb')\"\n",
              "              title=\"Convert this dataframe to an interactive table.\"\n",
              "              style=\"display:none;\">\n",
              "        \n",
              "  <svg xmlns=\"http://www.w3.org/2000/svg\" height=\"24px\"viewBox=\"0 0 24 24\"\n",
              "       width=\"24px\">\n",
              "    <path d=\"M0 0h24v24H0V0z\" fill=\"none\"/>\n",
              "    <path d=\"M18.56 5.44l.94 2.06.94-2.06 2.06-.94-2.06-.94-.94-2.06-.94 2.06-2.06.94zm-11 1L8.5 8.5l.94-2.06 2.06-.94-2.06-.94L8.5 2.5l-.94 2.06-2.06.94zm10 10l.94 2.06.94-2.06 2.06-.94-2.06-.94-.94-2.06-.94 2.06-2.06.94z\"/><path d=\"M17.41 7.96l-1.37-1.37c-.4-.4-.92-.59-1.43-.59-.52 0-1.04.2-1.43.59L10.3 9.45l-7.72 7.72c-.78.78-.78 2.05 0 2.83L4 21.41c.39.39.9.59 1.41.59.51 0 1.02-.2 1.41-.59l7.78-7.78 2.81-2.81c.8-.78.8-2.07 0-2.86zM5.41 20L4 18.59l7.72-7.72 1.47 1.35L5.41 20z\"/>\n",
              "  </svg>\n",
              "      </button>\n",
              "      \n",
              "  <style>\n",
              "    .colab-df-container {\n",
              "      display:flex;\n",
              "      flex-wrap:wrap;\n",
              "      gap: 12px;\n",
              "    }\n",
              "\n",
              "    .colab-df-convert {\n",
              "      background-color: #E8F0FE;\n",
              "      border: none;\n",
              "      border-radius: 50%;\n",
              "      cursor: pointer;\n",
              "      display: none;\n",
              "      fill: #1967D2;\n",
              "      height: 32px;\n",
              "      padding: 0 0 0 0;\n",
              "      width: 32px;\n",
              "    }\n",
              "\n",
              "    .colab-df-convert:hover {\n",
              "      background-color: #E2EBFA;\n",
              "      box-shadow: 0px 1px 2px rgba(60, 64, 67, 0.3), 0px 1px 3px 1px rgba(60, 64, 67, 0.15);\n",
              "      fill: #174EA6;\n",
              "    }\n",
              "\n",
              "    [theme=dark] .colab-df-convert {\n",
              "      background-color: #3B4455;\n",
              "      fill: #D2E3FC;\n",
              "    }\n",
              "\n",
              "    [theme=dark] .colab-df-convert:hover {\n",
              "      background-color: #434B5C;\n",
              "      box-shadow: 0px 1px 3px 1px rgba(0, 0, 0, 0.15);\n",
              "      filter: drop-shadow(0px 1px 2px rgba(0, 0, 0, 0.3));\n",
              "      fill: #FFFFFF;\n",
              "    }\n",
              "  </style>\n",
              "\n",
              "      <script>\n",
              "        const buttonEl =\n",
              "          document.querySelector('#df-09f16760-7a2a-4fb4-90ae-426dee59a7cb button.colab-df-convert');\n",
              "        buttonEl.style.display =\n",
              "          google.colab.kernel.accessAllowed ? 'block' : 'none';\n",
              "\n",
              "        async function convertToInteractive(key) {\n",
              "          const element = document.querySelector('#df-09f16760-7a2a-4fb4-90ae-426dee59a7cb');\n",
              "          const dataTable =\n",
              "            await google.colab.kernel.invokeFunction('convertToInteractive',\n",
              "                                                     [key], {});\n",
              "          if (!dataTable) return;\n",
              "\n",
              "          const docLinkHtml = 'Like what you see? Visit the ' +\n",
              "            '<a target=\"_blank\" href=https://colab.research.google.com/notebooks/data_table.ipynb>data table notebook</a>'\n",
              "            + ' to learn more about interactive tables.';\n",
              "          element.innerHTML = '';\n",
              "          dataTable['output_type'] = 'display_data';\n",
              "          await google.colab.output.renderOutput(dataTable, element);\n",
              "          const docLink = document.createElement('div');\n",
              "          docLink.innerHTML = docLinkHtml;\n",
              "          element.appendChild(docLink);\n",
              "        }\n",
              "      </script>\n",
              "    </div>\n",
              "  </div>\n",
              "  "
            ]
          },
          "metadata": {},
          "execution_count": 11
        }
      ],
      "source": [
        "df.head()"
      ]
    },
    {
      "cell_type": "code",
      "execution_count": null,
      "metadata": {
        "colab": {
          "base_uri": "https://localhost:8080/"
        },
        "id": "YMbtjTKhQzfg",
        "outputId": "e65c6845-352e-46d6-c512-f673ca19538b"
      },
      "outputs": [
        {
          "output_type": "execute_result",
          "data": {
            "text/plain": [
              "(148795, 15)"
            ]
          },
          "metadata": {},
          "execution_count": 12
        }
      ],
      "source": [
        "# check the shape of the matrix\n",
        "df.shape"
      ]
    },
    {
      "cell_type": "code",
      "execution_count": null,
      "metadata": {
        "id": "Z08ySX8nQ2KX"
      },
      "outputs": [],
      "source": [
        "#import required libraries\n",
        "import re\n",
        "import nltk\n",
        "import spacy\n",
        "import string"
      ]
    },
    {
      "cell_type": "code",
      "execution_count": null,
      "metadata": {
        "colab": {
          "base_uri": "https://localhost:8080/"
        },
        "id": "U6KwdSxMq0jQ",
        "outputId": "a56f035c-4466-4f0f-a3b6-fe4bd4f9b74f"
      },
      "outputs": [
        {
          "output_type": "execute_result",
          "data": {
            "text/plain": [
              "55431"
            ]
          },
          "metadata": {},
          "execution_count": 14
        }
      ],
      "source": [
        "#null values\n",
        "df.isnull().sum().sum()"
      ]
    },
    {
      "cell_type": "code",
      "execution_count": null,
      "metadata": {
        "colab": {
          "base_uri": "https://localhost:8080/"
        },
        "id": "vHJAMWpkQ7BF",
        "outputId": "020cb704-24dd-4aff-c139-606a840f6dde"
      },
      "outputs": [
        {
          "output_type": "execute_result",
          "data": {
            "text/plain": [
              "148795"
            ]
          },
          "metadata": {},
          "execution_count": 15
        }
      ],
      "source": [
        "#total values\n",
        "len(df)"
      ]
    },
    {
      "cell_type": "code",
      "execution_count": null,
      "metadata": {
        "colab": {
          "base_uri": "https://localhost:8080/"
        },
        "id": "agQHK5viRUHP",
        "outputId": "7e158836-8547-4374-c211-16f71cc833f3"
      },
      "outputs": [
        {
          "output_type": "execute_result",
          "data": {
            "text/plain": [
              "id number                0\n",
              "greek title              0\n",
              "original title       46290\n",
              "category                 0\n",
              "director                 0\n",
              "movie lenght             0\n",
              "movie date               0\n",
              "author                9141\n",
              "review date              0\n",
              "review                   0\n",
              "stars                    0\n",
              "label                    0\n",
              "mean of stars            0\n",
              "number of reviews        0\n",
              "url                      0\n",
              "dtype: int64"
            ]
          },
          "metadata": {},
          "execution_count": 16
        }
      ],
      "source": [
        "#check which column has null values\n",
        "df.isna().sum()"
      ]
    },
    {
      "cell_type": "markdown",
      "metadata": {
        "id": "KSDJBxWAxisb"
      },
      "source": [
        "# **Data preprocessing**\n",
        "The dataset should be preprocessed in order to become more simple and suitable for the vectorization part"
      ]
    },
    {
      "cell_type": "code",
      "execution_count": null,
      "metadata": {
        "colab": {
          "base_uri": "https://localhost:8080/",
          "height": 756
        },
        "id": "8OvBwy70RtG_",
        "outputId": "6a928ffb-0b32-43c5-f274-990a8ad3c0a3"
      },
      "outputs": [
        {
          "output_type": "execute_result",
          "data": {
            "text/plain": [
              "   id number                                    greek title  \\\n",
              "0          0              Και Τώρα Κάτι Τελείως Διαφορετικό   \n",
              "1          1              Και Τώρα Κάτι Τελείως Διαφορετικό   \n",
              "2          2  Το Αδελφάτο των Ιπποτών της Ελεεινής Τραπέζης   \n",
              "3          3  Το Αδελφάτο των Ιπποτών της Ελεεινής Τραπέζης   \n",
              "4          4  Το Αδελφάτο των Ιπποτών της Ελεεινής Τραπέζης   \n",
              "\n",
              "                               original title category  \\\n",
              "0  AND NOW FOR SOMETHING COMPLETELY DIFFERENT  Κωμωδία   \n",
              "1  AND NOW FOR SOMETHING COMPLETELY DIFFERENT  Κωμωδία   \n",
              "2             Monty Python and the Holy Grail  Κωμωδία   \n",
              "3             Monty Python and the Holy Grail  Κωμωδία   \n",
              "4             Monty Python and the Holy Grail  Κωμωδία   \n",
              "\n",
              "                     director  movie lenght  movie date             author  \\\n",
              "0               Ίαν Μακ Νότον            88        1971             Marvin   \n",
              "1               Ίαν Μακ Νότον            88        1971  Χριστόφορος Ζώνας   \n",
              "2  Τέρι Γκίλιαμ, Τέρι Τζόουνς            91        1975             Vandim   \n",
              "3  Τέρι Γκίλιαμ, Τέρι Τζόουνς            91        1975                 dH   \n",
              "4  Τέρι Γκίλιαμ, Τέρι Τζόουνς            91        1975            Orestis   \n",
              "\n",
              "   review date                                             review       stars  \\\n",
              "0         2002  Φοβερή η σύλληψη του χιούμορ από τους Python''...  4 αστεράκΑ   \n",
              "1         2002  Από τις καλύτερς στιγμές των Μ.Π., ισάξιο μόνο...  5 αστεράκΑ   \n",
              "2         2020  Κλασικό! Από τις καλύτερες και ανατρεπτικότερε...  4 αστεράκΑ   \n",
              "3         2015  Μου θυμιζει τα κόμικ του Αστερίξ που όσο μεγάλ...  5 αστεράκΑ   \n",
              "4         2014                                      Το κάτι άλλο!  5 αστεράκΑ   \n",
              "\n",
              "   label  mean of stars  number of reviews  \\\n",
              "0    4.0            4.5                  2   \n",
              "1    5.0            4.5                  2   \n",
              "2    4.0            4.0                 32   \n",
              "3    5.0            4.0                 32   \n",
              "4    5.0            4.0                 32   \n",
              "\n",
              "                                                 url  \\\n",
              "0  https://www.athinorama.gr/cinema/movieratings....   \n",
              "1  https://www.athinorama.gr/cinema/movieratings....   \n",
              "2  https://www.athinorama.gr/cinema/movieratings....   \n",
              "3  https://www.athinorama.gr/cinema/movieratings....   \n",
              "4  https://www.athinorama.gr/cinema/movieratings....   \n",
              "\n",
              "                                        review_lower  \n",
              "0  φοβερή η σύλληψη του χιούμορ από τους python''...  \n",
              "1  από τις καλύτερς στιγμές των μ.π., ισάξιο μόνο...  \n",
              "2  κλασικό! από τις καλύτερες και ανατρεπτικότερε...  \n",
              "3  μου θυμιζει τα κόμικ του αστερίξ που όσο μεγάλ...  \n",
              "4                                      το κάτι άλλο!  "
            ],
            "text/html": [
              "\n",
              "  <div id=\"df-deadb4ee-1486-4173-907f-d6c42d46431a\">\n",
              "    <div class=\"colab-df-container\">\n",
              "      <div>\n",
              "<style scoped>\n",
              "    .dataframe tbody tr th:only-of-type {\n",
              "        vertical-align: middle;\n",
              "    }\n",
              "\n",
              "    .dataframe tbody tr th {\n",
              "        vertical-align: top;\n",
              "    }\n",
              "\n",
              "    .dataframe thead th {\n",
              "        text-align: right;\n",
              "    }\n",
              "</style>\n",
              "<table border=\"1\" class=\"dataframe\">\n",
              "  <thead>\n",
              "    <tr style=\"text-align: right;\">\n",
              "      <th></th>\n",
              "      <th>id number</th>\n",
              "      <th>greek title</th>\n",
              "      <th>original title</th>\n",
              "      <th>category</th>\n",
              "      <th>director</th>\n",
              "      <th>movie lenght</th>\n",
              "      <th>movie date</th>\n",
              "      <th>author</th>\n",
              "      <th>review date</th>\n",
              "      <th>review</th>\n",
              "      <th>stars</th>\n",
              "      <th>label</th>\n",
              "      <th>mean of stars</th>\n",
              "      <th>number of reviews</th>\n",
              "      <th>url</th>\n",
              "      <th>review_lower</th>\n",
              "    </tr>\n",
              "  </thead>\n",
              "  <tbody>\n",
              "    <tr>\n",
              "      <th>0</th>\n",
              "      <td>0</td>\n",
              "      <td>Και Τώρα Κάτι Τελείως Διαφορετικό</td>\n",
              "      <td>AND NOW FOR SOMETHING COMPLETELY DIFFERENT</td>\n",
              "      <td>Κωμωδία</td>\n",
              "      <td>Ίαν Μακ Νότον</td>\n",
              "      <td>88</td>\n",
              "      <td>1971</td>\n",
              "      <td>Marvin</td>\n",
              "      <td>2002</td>\n",
              "      <td>Φοβερή η σύλληψη του χιούμορ από τους Python''...</td>\n",
              "      <td>4 αστεράκΑ</td>\n",
              "      <td>4.0</td>\n",
              "      <td>4.5</td>\n",
              "      <td>2</td>\n",
              "      <td>https://www.athinorama.gr/cinema/movieratings....</td>\n",
              "      <td>φοβερή η σύλληψη του χιούμορ από τους python''...</td>\n",
              "    </tr>\n",
              "    <tr>\n",
              "      <th>1</th>\n",
              "      <td>1</td>\n",
              "      <td>Και Τώρα Κάτι Τελείως Διαφορετικό</td>\n",
              "      <td>AND NOW FOR SOMETHING COMPLETELY DIFFERENT</td>\n",
              "      <td>Κωμωδία</td>\n",
              "      <td>Ίαν Μακ Νότον</td>\n",
              "      <td>88</td>\n",
              "      <td>1971</td>\n",
              "      <td>Χριστόφορος Ζώνας</td>\n",
              "      <td>2002</td>\n",
              "      <td>Από τις καλύτερς στιγμές των Μ.Π., ισάξιο μόνο...</td>\n",
              "      <td>5 αστεράκΑ</td>\n",
              "      <td>5.0</td>\n",
              "      <td>4.5</td>\n",
              "      <td>2</td>\n",
              "      <td>https://www.athinorama.gr/cinema/movieratings....</td>\n",
              "      <td>από τις καλύτερς στιγμές των μ.π., ισάξιο μόνο...</td>\n",
              "    </tr>\n",
              "    <tr>\n",
              "      <th>2</th>\n",
              "      <td>2</td>\n",
              "      <td>Το Αδελφάτο των Ιπποτών της Ελεεινής Τραπέζης</td>\n",
              "      <td>Monty Python and the Holy Grail</td>\n",
              "      <td>Κωμωδία</td>\n",
              "      <td>Τέρι Γκίλιαμ, Τέρι Τζόουνς</td>\n",
              "      <td>91</td>\n",
              "      <td>1975</td>\n",
              "      <td>Vandim</td>\n",
              "      <td>2020</td>\n",
              "      <td>Κλασικό! Από τις καλύτερες και ανατρεπτικότερε...</td>\n",
              "      <td>4 αστεράκΑ</td>\n",
              "      <td>4.0</td>\n",
              "      <td>4.0</td>\n",
              "      <td>32</td>\n",
              "      <td>https://www.athinorama.gr/cinema/movieratings....</td>\n",
              "      <td>κλασικό! από τις καλύτερες και ανατρεπτικότερε...</td>\n",
              "    </tr>\n",
              "    <tr>\n",
              "      <th>3</th>\n",
              "      <td>3</td>\n",
              "      <td>Το Αδελφάτο των Ιπποτών της Ελεεινής Τραπέζης</td>\n",
              "      <td>Monty Python and the Holy Grail</td>\n",
              "      <td>Κωμωδία</td>\n",
              "      <td>Τέρι Γκίλιαμ, Τέρι Τζόουνς</td>\n",
              "      <td>91</td>\n",
              "      <td>1975</td>\n",
              "      <td>dH</td>\n",
              "      <td>2015</td>\n",
              "      <td>Μου θυμιζει τα κόμικ του Αστερίξ που όσο μεγάλ...</td>\n",
              "      <td>5 αστεράκΑ</td>\n",
              "      <td>5.0</td>\n",
              "      <td>4.0</td>\n",
              "      <td>32</td>\n",
              "      <td>https://www.athinorama.gr/cinema/movieratings....</td>\n",
              "      <td>μου θυμιζει τα κόμικ του αστερίξ που όσο μεγάλ...</td>\n",
              "    </tr>\n",
              "    <tr>\n",
              "      <th>4</th>\n",
              "      <td>4</td>\n",
              "      <td>Το Αδελφάτο των Ιπποτών της Ελεεινής Τραπέζης</td>\n",
              "      <td>Monty Python and the Holy Grail</td>\n",
              "      <td>Κωμωδία</td>\n",
              "      <td>Τέρι Γκίλιαμ, Τέρι Τζόουνς</td>\n",
              "      <td>91</td>\n",
              "      <td>1975</td>\n",
              "      <td>Orestis</td>\n",
              "      <td>2014</td>\n",
              "      <td>Το κάτι άλλο!</td>\n",
              "      <td>5 αστεράκΑ</td>\n",
              "      <td>5.0</td>\n",
              "      <td>4.0</td>\n",
              "      <td>32</td>\n",
              "      <td>https://www.athinorama.gr/cinema/movieratings....</td>\n",
              "      <td>το κάτι άλλο!</td>\n",
              "    </tr>\n",
              "  </tbody>\n",
              "</table>\n",
              "</div>\n",
              "      <button class=\"colab-df-convert\" onclick=\"convertToInteractive('df-deadb4ee-1486-4173-907f-d6c42d46431a')\"\n",
              "              title=\"Convert this dataframe to an interactive table.\"\n",
              "              style=\"display:none;\">\n",
              "        \n",
              "  <svg xmlns=\"http://www.w3.org/2000/svg\" height=\"24px\"viewBox=\"0 0 24 24\"\n",
              "       width=\"24px\">\n",
              "    <path d=\"M0 0h24v24H0V0z\" fill=\"none\"/>\n",
              "    <path d=\"M18.56 5.44l.94 2.06.94-2.06 2.06-.94-2.06-.94-.94-2.06-.94 2.06-2.06.94zm-11 1L8.5 8.5l.94-2.06 2.06-.94-2.06-.94L8.5 2.5l-.94 2.06-2.06.94zm10 10l.94 2.06.94-2.06 2.06-.94-2.06-.94-.94-2.06-.94 2.06-2.06.94z\"/><path d=\"M17.41 7.96l-1.37-1.37c-.4-.4-.92-.59-1.43-.59-.52 0-1.04.2-1.43.59L10.3 9.45l-7.72 7.72c-.78.78-.78 2.05 0 2.83L4 21.41c.39.39.9.59 1.41.59.51 0 1.02-.2 1.41-.59l7.78-7.78 2.81-2.81c.8-.78.8-2.07 0-2.86zM5.41 20L4 18.59l7.72-7.72 1.47 1.35L5.41 20z\"/>\n",
              "  </svg>\n",
              "      </button>\n",
              "      \n",
              "  <style>\n",
              "    .colab-df-container {\n",
              "      display:flex;\n",
              "      flex-wrap:wrap;\n",
              "      gap: 12px;\n",
              "    }\n",
              "\n",
              "    .colab-df-convert {\n",
              "      background-color: #E8F0FE;\n",
              "      border: none;\n",
              "      border-radius: 50%;\n",
              "      cursor: pointer;\n",
              "      display: none;\n",
              "      fill: #1967D2;\n",
              "      height: 32px;\n",
              "      padding: 0 0 0 0;\n",
              "      width: 32px;\n",
              "    }\n",
              "\n",
              "    .colab-df-convert:hover {\n",
              "      background-color: #E2EBFA;\n",
              "      box-shadow: 0px 1px 2px rgba(60, 64, 67, 0.3), 0px 1px 3px 1px rgba(60, 64, 67, 0.15);\n",
              "      fill: #174EA6;\n",
              "    }\n",
              "\n",
              "    [theme=dark] .colab-df-convert {\n",
              "      background-color: #3B4455;\n",
              "      fill: #D2E3FC;\n",
              "    }\n",
              "\n",
              "    [theme=dark] .colab-df-convert:hover {\n",
              "      background-color: #434B5C;\n",
              "      box-shadow: 0px 1px 3px 1px rgba(0, 0, 0, 0.15);\n",
              "      filter: drop-shadow(0px 1px 2px rgba(0, 0, 0, 0.3));\n",
              "      fill: #FFFFFF;\n",
              "    }\n",
              "  </style>\n",
              "\n",
              "      <script>\n",
              "        const buttonEl =\n",
              "          document.querySelector('#df-deadb4ee-1486-4173-907f-d6c42d46431a button.colab-df-convert');\n",
              "        buttonEl.style.display =\n",
              "          google.colab.kernel.accessAllowed ? 'block' : 'none';\n",
              "\n",
              "        async function convertToInteractive(key) {\n",
              "          const element = document.querySelector('#df-deadb4ee-1486-4173-907f-d6c42d46431a');\n",
              "          const dataTable =\n",
              "            await google.colab.kernel.invokeFunction('convertToInteractive',\n",
              "                                                     [key], {});\n",
              "          if (!dataTable) return;\n",
              "\n",
              "          const docLinkHtml = 'Like what you see? Visit the ' +\n",
              "            '<a target=\"_blank\" href=https://colab.research.google.com/notebooks/data_table.ipynb>data table notebook</a>'\n",
              "            + ' to learn more about interactive tables.';\n",
              "          element.innerHTML = '';\n",
              "          dataTable['output_type'] = 'display_data';\n",
              "          await google.colab.output.renderOutput(dataTable, element);\n",
              "          const docLink = document.createElement('div');\n",
              "          docLink.innerHTML = docLinkHtml;\n",
              "          element.appendChild(docLink);\n",
              "        }\n",
              "      </script>\n",
              "    </div>\n",
              "  </div>\n",
              "  "
            ]
          },
          "metadata": {},
          "execution_count": 17
        }
      ],
      "source": [
        "#make all the characters lowercase\n",
        "df['review_lower'] = df['review'].str.lower()\n",
        "df.head()\n"
      ]
    },
    {
      "cell_type": "code",
      "execution_count": null,
      "metadata": {
        "colab": {
          "base_uri": "https://localhost:8080/",
          "height": 756
        },
        "id": "CDK0K0JNR1-v",
        "outputId": "dd829f8d-7b23-4970-da0c-1dce0a7717b2"
      },
      "outputs": [
        {
          "output_type": "execute_result",
          "data": {
            "text/plain": [
              "   id number                                    greek title  \\\n",
              "0          0              Και Τώρα Κάτι Τελείως Διαφορετικό   \n",
              "1          1              Και Τώρα Κάτι Τελείως Διαφορετικό   \n",
              "2          2  Το Αδελφάτο των Ιπποτών της Ελεεινής Τραπέζης   \n",
              "3          3  Το Αδελφάτο των Ιπποτών της Ελεεινής Τραπέζης   \n",
              "4          4  Το Αδελφάτο των Ιπποτών της Ελεεινής Τραπέζης   \n",
              "\n",
              "                               original title category  \\\n",
              "0  AND NOW FOR SOMETHING COMPLETELY DIFFERENT  Κωμωδία   \n",
              "1  AND NOW FOR SOMETHING COMPLETELY DIFFERENT  Κωμωδία   \n",
              "2             Monty Python and the Holy Grail  Κωμωδία   \n",
              "3             Monty Python and the Holy Grail  Κωμωδία   \n",
              "4             Monty Python and the Holy Grail  Κωμωδία   \n",
              "\n",
              "                     director  movie lenght  movie date             author  \\\n",
              "0               Ίαν Μακ Νότον            88        1971             Marvin   \n",
              "1               Ίαν Μακ Νότον            88        1971  Χριστόφορος Ζώνας   \n",
              "2  Τέρι Γκίλιαμ, Τέρι Τζόουνς            91        1975             Vandim   \n",
              "3  Τέρι Γκίλιαμ, Τέρι Τζόουνς            91        1975                 dH   \n",
              "4  Τέρι Γκίλιαμ, Τέρι Τζόουνς            91        1975            Orestis   \n",
              "\n",
              "   review date                                             review       stars  \\\n",
              "0         2002  Φοβερή η σύλληψη του χιούμορ από τους Python''...  4 αστεράκΑ   \n",
              "1         2002  Από τις καλύτερς στιγμές των Μ.Π., ισάξιο μόνο...  5 αστεράκΑ   \n",
              "2         2020  Κλασικό! Από τις καλύτερες και ανατρεπτικότερε...  4 αστεράκΑ   \n",
              "3         2015  Μου θυμιζει τα κόμικ του Αστερίξ που όσο μεγάλ...  5 αστεράκΑ   \n",
              "4         2014                                      Το κάτι άλλο!  5 αστεράκΑ   \n",
              "\n",
              "   label  mean of stars  number of reviews  \\\n",
              "0    4.0            4.5                  2   \n",
              "1    5.0            4.5                  2   \n",
              "2    4.0            4.0                 32   \n",
              "3    5.0            4.0                 32   \n",
              "4    5.0            4.0                 32   \n",
              "\n",
              "                                                 url  \\\n",
              "0  https://www.athinorama.gr/cinema/movieratings....   \n",
              "1  https://www.athinorama.gr/cinema/movieratings....   \n",
              "2  https://www.athinorama.gr/cinema/movieratings....   \n",
              "3  https://www.athinorama.gr/cinema/movieratings....   \n",
              "4  https://www.athinorama.gr/cinema/movieratings....   \n",
              "\n",
              "                                        review_lower  \n",
              "0  φοβερή η σύλληψη του χιούμορ από τους pythons ...  \n",
              "1  από τις καλύτερς στιγμές των μπ ισάξιο μόνο το...  \n",
              "2  κλασικό από τις καλύτερες και ανατρεπτικότερες...  \n",
              "3  μου θυμιζει τα κόμικ του αστερίξ που όσο μεγάλ...  \n",
              "4                                       το κάτι άλλο  "
            ],
            "text/html": [
              "\n",
              "  <div id=\"df-7af8b1ad-1ec2-4811-a89e-39070d0c7546\">\n",
              "    <div class=\"colab-df-container\">\n",
              "      <div>\n",
              "<style scoped>\n",
              "    .dataframe tbody tr th:only-of-type {\n",
              "        vertical-align: middle;\n",
              "    }\n",
              "\n",
              "    .dataframe tbody tr th {\n",
              "        vertical-align: top;\n",
              "    }\n",
              "\n",
              "    .dataframe thead th {\n",
              "        text-align: right;\n",
              "    }\n",
              "</style>\n",
              "<table border=\"1\" class=\"dataframe\">\n",
              "  <thead>\n",
              "    <tr style=\"text-align: right;\">\n",
              "      <th></th>\n",
              "      <th>id number</th>\n",
              "      <th>greek title</th>\n",
              "      <th>original title</th>\n",
              "      <th>category</th>\n",
              "      <th>director</th>\n",
              "      <th>movie lenght</th>\n",
              "      <th>movie date</th>\n",
              "      <th>author</th>\n",
              "      <th>review date</th>\n",
              "      <th>review</th>\n",
              "      <th>stars</th>\n",
              "      <th>label</th>\n",
              "      <th>mean of stars</th>\n",
              "      <th>number of reviews</th>\n",
              "      <th>url</th>\n",
              "      <th>review_lower</th>\n",
              "    </tr>\n",
              "  </thead>\n",
              "  <tbody>\n",
              "    <tr>\n",
              "      <th>0</th>\n",
              "      <td>0</td>\n",
              "      <td>Και Τώρα Κάτι Τελείως Διαφορετικό</td>\n",
              "      <td>AND NOW FOR SOMETHING COMPLETELY DIFFERENT</td>\n",
              "      <td>Κωμωδία</td>\n",
              "      <td>Ίαν Μακ Νότον</td>\n",
              "      <td>88</td>\n",
              "      <td>1971</td>\n",
              "      <td>Marvin</td>\n",
              "      <td>2002</td>\n",
              "      <td>Φοβερή η σύλληψη του χιούμορ από τους Python''...</td>\n",
              "      <td>4 αστεράκΑ</td>\n",
              "      <td>4.0</td>\n",
              "      <td>4.5</td>\n",
              "      <td>2</td>\n",
              "      <td>https://www.athinorama.gr/cinema/movieratings....</td>\n",
              "      <td>φοβερή η σύλληψη του χιούμορ από τους pythons ...</td>\n",
              "    </tr>\n",
              "    <tr>\n",
              "      <th>1</th>\n",
              "      <td>1</td>\n",
              "      <td>Και Τώρα Κάτι Τελείως Διαφορετικό</td>\n",
              "      <td>AND NOW FOR SOMETHING COMPLETELY DIFFERENT</td>\n",
              "      <td>Κωμωδία</td>\n",
              "      <td>Ίαν Μακ Νότον</td>\n",
              "      <td>88</td>\n",
              "      <td>1971</td>\n",
              "      <td>Χριστόφορος Ζώνας</td>\n",
              "      <td>2002</td>\n",
              "      <td>Από τις καλύτερς στιγμές των Μ.Π., ισάξιο μόνο...</td>\n",
              "      <td>5 αστεράκΑ</td>\n",
              "      <td>5.0</td>\n",
              "      <td>4.5</td>\n",
              "      <td>2</td>\n",
              "      <td>https://www.athinorama.gr/cinema/movieratings....</td>\n",
              "      <td>από τις καλύτερς στιγμές των μπ ισάξιο μόνο το...</td>\n",
              "    </tr>\n",
              "    <tr>\n",
              "      <th>2</th>\n",
              "      <td>2</td>\n",
              "      <td>Το Αδελφάτο των Ιπποτών της Ελεεινής Τραπέζης</td>\n",
              "      <td>Monty Python and the Holy Grail</td>\n",
              "      <td>Κωμωδία</td>\n",
              "      <td>Τέρι Γκίλιαμ, Τέρι Τζόουνς</td>\n",
              "      <td>91</td>\n",
              "      <td>1975</td>\n",
              "      <td>Vandim</td>\n",
              "      <td>2020</td>\n",
              "      <td>Κλασικό! Από τις καλύτερες και ανατρεπτικότερε...</td>\n",
              "      <td>4 αστεράκΑ</td>\n",
              "      <td>4.0</td>\n",
              "      <td>4.0</td>\n",
              "      <td>32</td>\n",
              "      <td>https://www.athinorama.gr/cinema/movieratings....</td>\n",
              "      <td>κλασικό από τις καλύτερες και ανατρεπτικότερες...</td>\n",
              "    </tr>\n",
              "    <tr>\n",
              "      <th>3</th>\n",
              "      <td>3</td>\n",
              "      <td>Το Αδελφάτο των Ιπποτών της Ελεεινής Τραπέζης</td>\n",
              "      <td>Monty Python and the Holy Grail</td>\n",
              "      <td>Κωμωδία</td>\n",
              "      <td>Τέρι Γκίλιαμ, Τέρι Τζόουνς</td>\n",
              "      <td>91</td>\n",
              "      <td>1975</td>\n",
              "      <td>dH</td>\n",
              "      <td>2015</td>\n",
              "      <td>Μου θυμιζει τα κόμικ του Αστερίξ που όσο μεγάλ...</td>\n",
              "      <td>5 αστεράκΑ</td>\n",
              "      <td>5.0</td>\n",
              "      <td>4.0</td>\n",
              "      <td>32</td>\n",
              "      <td>https://www.athinorama.gr/cinema/movieratings....</td>\n",
              "      <td>μου θυμιζει τα κόμικ του αστερίξ που όσο μεγάλ...</td>\n",
              "    </tr>\n",
              "    <tr>\n",
              "      <th>4</th>\n",
              "      <td>4</td>\n",
              "      <td>Το Αδελφάτο των Ιπποτών της Ελεεινής Τραπέζης</td>\n",
              "      <td>Monty Python and the Holy Grail</td>\n",
              "      <td>Κωμωδία</td>\n",
              "      <td>Τέρι Γκίλιαμ, Τέρι Τζόουνς</td>\n",
              "      <td>91</td>\n",
              "      <td>1975</td>\n",
              "      <td>Orestis</td>\n",
              "      <td>2014</td>\n",
              "      <td>Το κάτι άλλο!</td>\n",
              "      <td>5 αστεράκΑ</td>\n",
              "      <td>5.0</td>\n",
              "      <td>4.0</td>\n",
              "      <td>32</td>\n",
              "      <td>https://www.athinorama.gr/cinema/movieratings....</td>\n",
              "      <td>το κάτι άλλο</td>\n",
              "    </tr>\n",
              "  </tbody>\n",
              "</table>\n",
              "</div>\n",
              "      <button class=\"colab-df-convert\" onclick=\"convertToInteractive('df-7af8b1ad-1ec2-4811-a89e-39070d0c7546')\"\n",
              "              title=\"Convert this dataframe to an interactive table.\"\n",
              "              style=\"display:none;\">\n",
              "        \n",
              "  <svg xmlns=\"http://www.w3.org/2000/svg\" height=\"24px\"viewBox=\"0 0 24 24\"\n",
              "       width=\"24px\">\n",
              "    <path d=\"M0 0h24v24H0V0z\" fill=\"none\"/>\n",
              "    <path d=\"M18.56 5.44l.94 2.06.94-2.06 2.06-.94-2.06-.94-.94-2.06-.94 2.06-2.06.94zm-11 1L8.5 8.5l.94-2.06 2.06-.94-2.06-.94L8.5 2.5l-.94 2.06-2.06.94zm10 10l.94 2.06.94-2.06 2.06-.94-2.06-.94-.94-2.06-.94 2.06-2.06.94z\"/><path d=\"M17.41 7.96l-1.37-1.37c-.4-.4-.92-.59-1.43-.59-.52 0-1.04.2-1.43.59L10.3 9.45l-7.72 7.72c-.78.78-.78 2.05 0 2.83L4 21.41c.39.39.9.59 1.41.59.51 0 1.02-.2 1.41-.59l7.78-7.78 2.81-2.81c.8-.78.8-2.07 0-2.86zM5.41 20L4 18.59l7.72-7.72 1.47 1.35L5.41 20z\"/>\n",
              "  </svg>\n",
              "      </button>\n",
              "      \n",
              "  <style>\n",
              "    .colab-df-container {\n",
              "      display:flex;\n",
              "      flex-wrap:wrap;\n",
              "      gap: 12px;\n",
              "    }\n",
              "\n",
              "    .colab-df-convert {\n",
              "      background-color: #E8F0FE;\n",
              "      border: none;\n",
              "      border-radius: 50%;\n",
              "      cursor: pointer;\n",
              "      display: none;\n",
              "      fill: #1967D2;\n",
              "      height: 32px;\n",
              "      padding: 0 0 0 0;\n",
              "      width: 32px;\n",
              "    }\n",
              "\n",
              "    .colab-df-convert:hover {\n",
              "      background-color: #E2EBFA;\n",
              "      box-shadow: 0px 1px 2px rgba(60, 64, 67, 0.3), 0px 1px 3px 1px rgba(60, 64, 67, 0.15);\n",
              "      fill: #174EA6;\n",
              "    }\n",
              "\n",
              "    [theme=dark] .colab-df-convert {\n",
              "      background-color: #3B4455;\n",
              "      fill: #D2E3FC;\n",
              "    }\n",
              "\n",
              "    [theme=dark] .colab-df-convert:hover {\n",
              "      background-color: #434B5C;\n",
              "      box-shadow: 0px 1px 3px 1px rgba(0, 0, 0, 0.15);\n",
              "      filter: drop-shadow(0px 1px 2px rgba(0, 0, 0, 0.3));\n",
              "      fill: #FFFFFF;\n",
              "    }\n",
              "  </style>\n",
              "\n",
              "      <script>\n",
              "        const buttonEl =\n",
              "          document.querySelector('#df-7af8b1ad-1ec2-4811-a89e-39070d0c7546 button.colab-df-convert');\n",
              "        buttonEl.style.display =\n",
              "          google.colab.kernel.accessAllowed ? 'block' : 'none';\n",
              "\n",
              "        async function convertToInteractive(key) {\n",
              "          const element = document.querySelector('#df-7af8b1ad-1ec2-4811-a89e-39070d0c7546');\n",
              "          const dataTable =\n",
              "            await google.colab.kernel.invokeFunction('convertToInteractive',\n",
              "                                                     [key], {});\n",
              "          if (!dataTable) return;\n",
              "\n",
              "          const docLinkHtml = 'Like what you see? Visit the ' +\n",
              "            '<a target=\"_blank\" href=https://colab.research.google.com/notebooks/data_table.ipynb>data table notebook</a>'\n",
              "            + ' to learn more about interactive tables.';\n",
              "          element.innerHTML = '';\n",
              "          dataTable['output_type'] = 'display_data';\n",
              "          await google.colab.output.renderOutput(dataTable, element);\n",
              "          const docLink = document.createElement('div');\n",
              "          docLink.innerHTML = docLinkHtml;\n",
              "          element.appendChild(docLink);\n",
              "        }\n",
              "      </script>\n",
              "    </div>\n",
              "  </div>\n",
              "  "
            ]
          },
          "metadata": {},
          "execution_count": 18
        }
      ],
      "source": [
        "# remove special characters\n",
        "df['review_lower'] = df['review_lower'].str.replace('[^\\w\\s]', '', regex=True)\n",
        "df.head()\n"
      ]
    },
    {
      "cell_type": "code",
      "execution_count": null,
      "metadata": {
        "colab": {
          "base_uri": "https://localhost:8080/"
        },
        "id": "VUrX1npYSMAA",
        "outputId": "82d70826-81c3-4cfd-ce85-16592e0e8f90"
      },
      "outputs": [
        {
          "output_type": "stream",
          "name": "stderr",
          "text": [
            "[nltk_data] Downloading package stopwords to /root/nltk_data...\n",
            "[nltk_data]   Unzipping corpora/stopwords.zip.\n"
          ]
        },
        {
          "output_type": "execute_result",
          "data": {
            "text/plain": [
              "True"
            ]
          },
          "metadata": {},
          "execution_count": 19
        }
      ],
      "source": [
        "# import nltk library and download stop words\n",
        "import nltk\n",
        "nltk.download('stopwords')"
      ]
    },
    {
      "cell_type": "code",
      "execution_count": null,
      "metadata": {
        "colab": {
          "base_uri": "https://localhost:8080/"
        },
        "id": "acrLdDKuSdk-",
        "outputId": "2fa9b79e-fee2-432d-88ec-6958431c7d60"
      },
      "outputs": [
        {
          "output_type": "stream",
          "name": "stdout",
          "text": [
            "['αλλα', 'αν', 'αντι', 'απο', 'αυτα', 'αυτεσ', 'αυτη', 'αυτο', 'αυτοι', 'αυτοσ', 'αυτουσ', 'αυτων', 'αἱ', 'αἳ', 'αἵ', 'αὐτόσ', 'αὐτὸς', 'αὖ', 'γάρ', 'γα', 'γα^', 'γε', 'για', 'γοῦν', 'γὰρ', \"δ'\", 'δέ', 'δή', 'δαί', 'δαίσ', 'δαὶ', 'δαὶς', 'δε', 'δεν', \"δι'\", 'διά', 'διὰ', 'δὲ', 'δὴ', 'δ’', 'εαν', 'ειμαι', 'ειμαστε', 'ειναι', 'εισαι', 'ειστε', 'εκεινα', 'εκεινεσ', 'εκεινη', 'εκεινο', 'εκεινοι', 'εκεινοσ', 'εκεινουσ', 'εκεινων', 'ενω', 'επ', 'επι', 'εἰ', 'εἰμί', 'εἰμὶ', 'εἰς', 'εἰσ', 'εἴ', 'εἴμι', 'εἴτε', 'η', 'θα', 'ισωσ', 'κ', 'καί', 'καίτοι', 'καθ', 'και', 'κατ', 'κατά', 'κατα', 'κατὰ', 'καὶ', 'κι', 'κἀν', 'κἂν', 'μέν', 'μή', 'μήτε', 'μα', 'με', 'μεθ', 'μετ', 'μετά', 'μετα', 'μετὰ', 'μη', 'μην', 'μἐν', 'μὲν', 'μὴ', 'μὴν', 'να', 'ο', 'οι', 'ομωσ', 'οπωσ', 'οσο', 'οτι', 'οἱ', 'οἳ', 'οἷς', 'οὐ', 'οὐδ', 'οὐδέ', 'οὐδείσ', 'οὐδεὶς', 'οὐδὲ', 'οὐδὲν', 'οὐκ', 'οὐχ', 'οὐχὶ', 'οὓς', 'οὔτε', 'οὕτω', 'οὕτως', 'οὕτωσ', 'οὖν', 'οὗ', 'οὗτος', 'οὗτοσ', 'παρ', 'παρά', 'παρα', 'παρὰ', 'περί', 'περὶ', 'ποια', 'ποιεσ', 'ποιο', 'ποιοι', 'ποιοσ', 'ποιουσ', 'ποιων', 'ποτε', 'που', 'ποῦ', 'προ', 'προσ', 'πρόσ', 'πρὸ', 'πρὸς', 'πως', 'πωσ', 'σε', 'στη', 'στην', 'στο', 'στον', 'σόσ', 'σύ', 'σύν', 'σὸς', 'σὺ', 'σὺν', 'τά', 'τήν', 'τί', 'τίς', 'τίσ', 'τα', 'ταῖς', 'τε', 'την', 'τησ', 'τι', 'τινα', 'τις', 'τισ', 'το', 'τοί', 'τοι', 'τοιοῦτος', 'τοιοῦτοσ', 'τον', 'τοτε', 'του', 'τούσ', 'τοὺς', 'τοῖς', 'τοῦ', 'των', 'τό', 'τόν', 'τότε', 'τὰ', 'τὰς', 'τὴν', 'τὸ', 'τὸν', 'τῆς', 'τῆσ', 'τῇ', 'τῶν', 'τῷ', 'ωσ', \"ἀλλ'\", 'ἀλλά', 'ἀλλὰ', 'ἀλλ’', 'ἀπ', 'ἀπό', 'ἀπὸ', 'ἀφ', 'ἂν', 'ἃ', 'ἄλλος', 'ἄλλοσ', 'ἄν', 'ἄρα', 'ἅμα', 'ἐάν', 'ἐγώ', 'ἐγὼ', 'ἐκ', 'ἐμόσ', 'ἐμὸς', 'ἐν', 'ἐξ', 'ἐπί', 'ἐπεὶ', 'ἐπὶ', 'ἐστι', 'ἐφ', 'ἐὰν', 'ἑαυτοῦ', 'ἔτι', 'ἡ', 'ἢ', 'ἣ', 'ἤ', 'ἥ', 'ἧς', 'ἵνα', 'ὁ', 'ὃ', 'ὃν', 'ὃς', 'ὅ', 'ὅδε', 'ὅθεν', 'ὅπερ', 'ὅς', 'ὅσ', 'ὅστις', 'ὅστισ', 'ὅτε', 'ὅτι', 'ὑμόσ', 'ὑπ', 'ὑπέρ', 'ὑπό', 'ὑπὲρ', 'ὑπὸ', 'ὡς', 'ὡσ', 'ὥς', 'ὥστε', 'ὦ', 'ᾧ']\n"
          ]
        }
      ],
      "source": [
        "from nltk.corpus import stopwords\n",
        "print(stopwords.words('greek'))"
      ]
    },
    {
      "cell_type": "code",
      "execution_count": null,
      "metadata": {
        "id": "e1gFutwKS_5D"
      },
      "outputs": [],
      "source": [
        "from nltk.tokenize import word_tokenize,sent_tokenize"
      ]
    },
    {
      "cell_type": "markdown",
      "metadata": {
        "id": "65SYpfJCS8aO"
      },
      "source": []
    },
    {
      "cell_type": "code",
      "execution_count": null,
      "metadata": {
        "id": "2DG-Sv6fTDwh"
      },
      "outputs": [],
      "source": [
        "from nltk.tokenize import word_tokenize,sent_tokenize"
      ]
    },
    {
      "cell_type": "code",
      "execution_count": null,
      "metadata": {
        "id": "b2pNS6UNTIWL"
      },
      "outputs": [],
      "source": [
        "# import a tokenizer which is suitable for Greek language\n",
        "from nltk.tokenize.toktok import ToktokTokenizer"
      ]
    },
    {
      "cell_type": "code",
      "execution_count": null,
      "metadata": {
        "id": "qWaC-lS5TLPn"
      },
      "outputs": [],
      "source": [
        "tokenizer=ToktokTokenizer()"
      ]
    },
    {
      "cell_type": "code",
      "execution_count": null,
      "metadata": {
        "id": "f2ScjKOvTMxs"
      },
      "outputs": [],
      "source": [
        "stopword_list=nltk.corpus.stopwords.words('greek')"
      ]
    },
    {
      "cell_type": "code",
      "execution_count": null,
      "metadata": {
        "id": "cR5t0PRdTXHS"
      },
      "outputs": [],
      "source": [
        "#remove stop words\n",
        "def remove_stopwords(text):\n",
        "  tokens = tokenizer.tokenize(text)\n",
        "  tokens = [token.strip() for token in tokens]\n",
        "  filtered_tokens = [token for token in tokens if token not in stopword_list]\n",
        "  filtered_text = ' '.join(filtered_tokens)\n",
        "  return filtered_text"
      ]
    },
    {
      "cell_type": "code",
      "execution_count": null,
      "metadata": {
        "id": "nz4MnqVuTYOO"
      },
      "outputs": [],
      "source": [
        "df['review_lower'] = df['review_lower'].apply(remove_stopwords)"
      ]
    },
    {
      "cell_type": "code",
      "execution_count": null,
      "metadata": {
        "colab": {
          "base_uri": "https://localhost:8080/",
          "height": 756
        },
        "id": "SXuj13e7TiPU",
        "outputId": "b55e9363-e3c5-4ecc-9686-e8d338681837"
      },
      "outputs": [
        {
          "output_type": "execute_result",
          "data": {
            "text/plain": [
              "   id number                                    greek title  \\\n",
              "0          0              Και Τώρα Κάτι Τελείως Διαφορετικό   \n",
              "1          1              Και Τώρα Κάτι Τελείως Διαφορετικό   \n",
              "2          2  Το Αδελφάτο των Ιπποτών της Ελεεινής Τραπέζης   \n",
              "3          3  Το Αδελφάτο των Ιπποτών της Ελεεινής Τραπέζης   \n",
              "4          4  Το Αδελφάτο των Ιπποτών της Ελεεινής Τραπέζης   \n",
              "\n",
              "                               original title category  \\\n",
              "0  AND NOW FOR SOMETHING COMPLETELY DIFFERENT  Κωμωδία   \n",
              "1  AND NOW FOR SOMETHING COMPLETELY DIFFERENT  Κωμωδία   \n",
              "2             Monty Python and the Holy Grail  Κωμωδία   \n",
              "3             Monty Python and the Holy Grail  Κωμωδία   \n",
              "4             Monty Python and the Holy Grail  Κωμωδία   \n",
              "\n",
              "                     director  movie lenght  movie date             author  \\\n",
              "0               Ίαν Μακ Νότον            88        1971             Marvin   \n",
              "1               Ίαν Μακ Νότον            88        1971  Χριστόφορος Ζώνας   \n",
              "2  Τέρι Γκίλιαμ, Τέρι Τζόουνς            91        1975             Vandim   \n",
              "3  Τέρι Γκίλιαμ, Τέρι Τζόουνς            91        1975                 dH   \n",
              "4  Τέρι Γκίλιαμ, Τέρι Τζόουνς            91        1975            Orestis   \n",
              "\n",
              "   review date                                             review       stars  \\\n",
              "0         2002  Φοβερή η σύλληψη του χιούμορ από τους Python''...  4 αστεράκΑ   \n",
              "1         2002  Από τις καλύτερς στιγμές των Μ.Π., ισάξιο μόνο...  5 αστεράκΑ   \n",
              "2         2020  Κλασικό! Από τις καλύτερες και ανατρεπτικότερε...  4 αστεράκΑ   \n",
              "3         2015  Μου θυμιζει τα κόμικ του Αστερίξ που όσο μεγάλ...  5 αστεράκΑ   \n",
              "4         2014                                      Το κάτι άλλο!  5 αστεράκΑ   \n",
              "\n",
              "   label  mean of stars  number of reviews  \\\n",
              "0    4.0            4.5                  2   \n",
              "1    5.0            4.5                  2   \n",
              "2    4.0            4.0                 32   \n",
              "3    5.0            4.0                 32   \n",
              "4    5.0            4.0                 32   \n",
              "\n",
              "                                                 url  \\\n",
              "0  https://www.athinorama.gr/cinema/movieratings....   \n",
              "1  https://www.athinorama.gr/cinema/movieratings....   \n",
              "2  https://www.athinorama.gr/cinema/movieratings....   \n",
              "3  https://www.athinorama.gr/cinema/movieratings....   \n",
              "4  https://www.athinorama.gr/cinema/movieratings....   \n",
              "\n",
              "                                        review_lower  \n",
              "0  φοβερή σύλληψη χιούμορ από τους pythons ιδανικ...  \n",
              "1  από καλύτερς στιγμές μπ ισάξιο μόνο monty pyth...  \n",
              "2  κλασικό από καλύτερες ανατρεπτικότερες κωμωδίε...  \n",
              "3  μου θυμιζει κόμικ αστερίξ όσο μεγάλωνα ανακάλυ...  \n",
              "4                                          κάτι άλλο  "
            ],
            "text/html": [
              "\n",
              "  <div id=\"df-23aa1322-a159-4635-a57d-53c3011464c6\">\n",
              "    <div class=\"colab-df-container\">\n",
              "      <div>\n",
              "<style scoped>\n",
              "    .dataframe tbody tr th:only-of-type {\n",
              "        vertical-align: middle;\n",
              "    }\n",
              "\n",
              "    .dataframe tbody tr th {\n",
              "        vertical-align: top;\n",
              "    }\n",
              "\n",
              "    .dataframe thead th {\n",
              "        text-align: right;\n",
              "    }\n",
              "</style>\n",
              "<table border=\"1\" class=\"dataframe\">\n",
              "  <thead>\n",
              "    <tr style=\"text-align: right;\">\n",
              "      <th></th>\n",
              "      <th>id number</th>\n",
              "      <th>greek title</th>\n",
              "      <th>original title</th>\n",
              "      <th>category</th>\n",
              "      <th>director</th>\n",
              "      <th>movie lenght</th>\n",
              "      <th>movie date</th>\n",
              "      <th>author</th>\n",
              "      <th>review date</th>\n",
              "      <th>review</th>\n",
              "      <th>stars</th>\n",
              "      <th>label</th>\n",
              "      <th>mean of stars</th>\n",
              "      <th>number of reviews</th>\n",
              "      <th>url</th>\n",
              "      <th>review_lower</th>\n",
              "    </tr>\n",
              "  </thead>\n",
              "  <tbody>\n",
              "    <tr>\n",
              "      <th>0</th>\n",
              "      <td>0</td>\n",
              "      <td>Και Τώρα Κάτι Τελείως Διαφορετικό</td>\n",
              "      <td>AND NOW FOR SOMETHING COMPLETELY DIFFERENT</td>\n",
              "      <td>Κωμωδία</td>\n",
              "      <td>Ίαν Μακ Νότον</td>\n",
              "      <td>88</td>\n",
              "      <td>1971</td>\n",
              "      <td>Marvin</td>\n",
              "      <td>2002</td>\n",
              "      <td>Φοβερή η σύλληψη του χιούμορ από τους Python''...</td>\n",
              "      <td>4 αστεράκΑ</td>\n",
              "      <td>4.0</td>\n",
              "      <td>4.5</td>\n",
              "      <td>2</td>\n",
              "      <td>https://www.athinorama.gr/cinema/movieratings....</td>\n",
              "      <td>φοβερή σύλληψη χιούμορ από τους pythons ιδανικ...</td>\n",
              "    </tr>\n",
              "    <tr>\n",
              "      <th>1</th>\n",
              "      <td>1</td>\n",
              "      <td>Και Τώρα Κάτι Τελείως Διαφορετικό</td>\n",
              "      <td>AND NOW FOR SOMETHING COMPLETELY DIFFERENT</td>\n",
              "      <td>Κωμωδία</td>\n",
              "      <td>Ίαν Μακ Νότον</td>\n",
              "      <td>88</td>\n",
              "      <td>1971</td>\n",
              "      <td>Χριστόφορος Ζώνας</td>\n",
              "      <td>2002</td>\n",
              "      <td>Από τις καλύτερς στιγμές των Μ.Π., ισάξιο μόνο...</td>\n",
              "      <td>5 αστεράκΑ</td>\n",
              "      <td>5.0</td>\n",
              "      <td>4.5</td>\n",
              "      <td>2</td>\n",
              "      <td>https://www.athinorama.gr/cinema/movieratings....</td>\n",
              "      <td>από καλύτερς στιγμές μπ ισάξιο μόνο monty pyth...</td>\n",
              "    </tr>\n",
              "    <tr>\n",
              "      <th>2</th>\n",
              "      <td>2</td>\n",
              "      <td>Το Αδελφάτο των Ιπποτών της Ελεεινής Τραπέζης</td>\n",
              "      <td>Monty Python and the Holy Grail</td>\n",
              "      <td>Κωμωδία</td>\n",
              "      <td>Τέρι Γκίλιαμ, Τέρι Τζόουνς</td>\n",
              "      <td>91</td>\n",
              "      <td>1975</td>\n",
              "      <td>Vandim</td>\n",
              "      <td>2020</td>\n",
              "      <td>Κλασικό! Από τις καλύτερες και ανατρεπτικότερε...</td>\n",
              "      <td>4 αστεράκΑ</td>\n",
              "      <td>4.0</td>\n",
              "      <td>4.0</td>\n",
              "      <td>32</td>\n",
              "      <td>https://www.athinorama.gr/cinema/movieratings....</td>\n",
              "      <td>κλασικό από καλύτερες ανατρεπτικότερες κωμωδίε...</td>\n",
              "    </tr>\n",
              "    <tr>\n",
              "      <th>3</th>\n",
              "      <td>3</td>\n",
              "      <td>Το Αδελφάτο των Ιπποτών της Ελεεινής Τραπέζης</td>\n",
              "      <td>Monty Python and the Holy Grail</td>\n",
              "      <td>Κωμωδία</td>\n",
              "      <td>Τέρι Γκίλιαμ, Τέρι Τζόουνς</td>\n",
              "      <td>91</td>\n",
              "      <td>1975</td>\n",
              "      <td>dH</td>\n",
              "      <td>2015</td>\n",
              "      <td>Μου θυμιζει τα κόμικ του Αστερίξ που όσο μεγάλ...</td>\n",
              "      <td>5 αστεράκΑ</td>\n",
              "      <td>5.0</td>\n",
              "      <td>4.0</td>\n",
              "      <td>32</td>\n",
              "      <td>https://www.athinorama.gr/cinema/movieratings....</td>\n",
              "      <td>μου θυμιζει κόμικ αστερίξ όσο μεγάλωνα ανακάλυ...</td>\n",
              "    </tr>\n",
              "    <tr>\n",
              "      <th>4</th>\n",
              "      <td>4</td>\n",
              "      <td>Το Αδελφάτο των Ιπποτών της Ελεεινής Τραπέζης</td>\n",
              "      <td>Monty Python and the Holy Grail</td>\n",
              "      <td>Κωμωδία</td>\n",
              "      <td>Τέρι Γκίλιαμ, Τέρι Τζόουνς</td>\n",
              "      <td>91</td>\n",
              "      <td>1975</td>\n",
              "      <td>Orestis</td>\n",
              "      <td>2014</td>\n",
              "      <td>Το κάτι άλλο!</td>\n",
              "      <td>5 αστεράκΑ</td>\n",
              "      <td>5.0</td>\n",
              "      <td>4.0</td>\n",
              "      <td>32</td>\n",
              "      <td>https://www.athinorama.gr/cinema/movieratings....</td>\n",
              "      <td>κάτι άλλο</td>\n",
              "    </tr>\n",
              "  </tbody>\n",
              "</table>\n",
              "</div>\n",
              "      <button class=\"colab-df-convert\" onclick=\"convertToInteractive('df-23aa1322-a159-4635-a57d-53c3011464c6')\"\n",
              "              title=\"Convert this dataframe to an interactive table.\"\n",
              "              style=\"display:none;\">\n",
              "        \n",
              "  <svg xmlns=\"http://www.w3.org/2000/svg\" height=\"24px\"viewBox=\"0 0 24 24\"\n",
              "       width=\"24px\">\n",
              "    <path d=\"M0 0h24v24H0V0z\" fill=\"none\"/>\n",
              "    <path d=\"M18.56 5.44l.94 2.06.94-2.06 2.06-.94-2.06-.94-.94-2.06-.94 2.06-2.06.94zm-11 1L8.5 8.5l.94-2.06 2.06-.94-2.06-.94L8.5 2.5l-.94 2.06-2.06.94zm10 10l.94 2.06.94-2.06 2.06-.94-2.06-.94-.94-2.06-.94 2.06-2.06.94z\"/><path d=\"M17.41 7.96l-1.37-1.37c-.4-.4-.92-.59-1.43-.59-.52 0-1.04.2-1.43.59L10.3 9.45l-7.72 7.72c-.78.78-.78 2.05 0 2.83L4 21.41c.39.39.9.59 1.41.59.51 0 1.02-.2 1.41-.59l7.78-7.78 2.81-2.81c.8-.78.8-2.07 0-2.86zM5.41 20L4 18.59l7.72-7.72 1.47 1.35L5.41 20z\"/>\n",
              "  </svg>\n",
              "      </button>\n",
              "      \n",
              "  <style>\n",
              "    .colab-df-container {\n",
              "      display:flex;\n",
              "      flex-wrap:wrap;\n",
              "      gap: 12px;\n",
              "    }\n",
              "\n",
              "    .colab-df-convert {\n",
              "      background-color: #E8F0FE;\n",
              "      border: none;\n",
              "      border-radius: 50%;\n",
              "      cursor: pointer;\n",
              "      display: none;\n",
              "      fill: #1967D2;\n",
              "      height: 32px;\n",
              "      padding: 0 0 0 0;\n",
              "      width: 32px;\n",
              "    }\n",
              "\n",
              "    .colab-df-convert:hover {\n",
              "      background-color: #E2EBFA;\n",
              "      box-shadow: 0px 1px 2px rgba(60, 64, 67, 0.3), 0px 1px 3px 1px rgba(60, 64, 67, 0.15);\n",
              "      fill: #174EA6;\n",
              "    }\n",
              "\n",
              "    [theme=dark] .colab-df-convert {\n",
              "      background-color: #3B4455;\n",
              "      fill: #D2E3FC;\n",
              "    }\n",
              "\n",
              "    [theme=dark] .colab-df-convert:hover {\n",
              "      background-color: #434B5C;\n",
              "      box-shadow: 0px 1px 3px 1px rgba(0, 0, 0, 0.15);\n",
              "      filter: drop-shadow(0px 1px 2px rgba(0, 0, 0, 0.3));\n",
              "      fill: #FFFFFF;\n",
              "    }\n",
              "  </style>\n",
              "\n",
              "      <script>\n",
              "        const buttonEl =\n",
              "          document.querySelector('#df-23aa1322-a159-4635-a57d-53c3011464c6 button.colab-df-convert');\n",
              "        buttonEl.style.display =\n",
              "          google.colab.kernel.accessAllowed ? 'block' : 'none';\n",
              "\n",
              "        async function convertToInteractive(key) {\n",
              "          const element = document.querySelector('#df-23aa1322-a159-4635-a57d-53c3011464c6');\n",
              "          const dataTable =\n",
              "            await google.colab.kernel.invokeFunction('convertToInteractive',\n",
              "                                                     [key], {});\n",
              "          if (!dataTable) return;\n",
              "\n",
              "          const docLinkHtml = 'Like what you see? Visit the ' +\n",
              "            '<a target=\"_blank\" href=https://colab.research.google.com/notebooks/data_table.ipynb>data table notebook</a>'\n",
              "            + ' to learn more about interactive tables.';\n",
              "          element.innerHTML = '';\n",
              "          dataTable['output_type'] = 'display_data';\n",
              "          await google.colab.output.renderOutput(dataTable, element);\n",
              "          const docLink = document.createElement('div');\n",
              "          docLink.innerHTML = docLinkHtml;\n",
              "          element.appendChild(docLink);\n",
              "        }\n",
              "      </script>\n",
              "    </div>\n",
              "  </div>\n",
              "  "
            ]
          },
          "metadata": {},
          "execution_count": 28
        }
      ],
      "source": [
        "df.head()"
      ]
    },
    {
      "cell_type": "code",
      "execution_count": null,
      "metadata": {
        "id": "eQQShAnwTlRG"
      },
      "outputs": [],
      "source": [
        "#drop values of label that are equal with 3\n",
        "df = df [df['label'] != 3]"
      ]
    },
    {
      "cell_type": "code",
      "execution_count": null,
      "metadata": {
        "id": "YJXUXZCSTqB3"
      },
      "outputs": [],
      "source": [
        "#turning every value that is equal or higher from 3.5 into 1 and every other into 0\n",
        "def sentiment(n) :\n",
        "  return 1 if n >= 3.5 else 0\n",
        "df['sentiment'] = df ['label']. apply(sentiment)"
      ]
    },
    {
      "cell_type": "code",
      "execution_count": null,
      "metadata": {
        "colab": {
          "base_uri": "https://localhost:8080/",
          "height": 756
        },
        "id": "-jcz3h98Tq9R",
        "outputId": "4b6764f1-1ea1-4145-d02d-9949592d1d9f"
      },
      "outputs": [
        {
          "output_type": "execute_result",
          "data": {
            "text/plain": [
              "   id number                                    greek title  \\\n",
              "0          0              Και Τώρα Κάτι Τελείως Διαφορετικό   \n",
              "1          1              Και Τώρα Κάτι Τελείως Διαφορετικό   \n",
              "2          2  Το Αδελφάτο των Ιπποτών της Ελεεινής Τραπέζης   \n",
              "3          3  Το Αδελφάτο των Ιπποτών της Ελεεινής Τραπέζης   \n",
              "4          4  Το Αδελφάτο των Ιπποτών της Ελεεινής Τραπέζης   \n",
              "\n",
              "                               original title category  \\\n",
              "0  AND NOW FOR SOMETHING COMPLETELY DIFFERENT  Κωμωδία   \n",
              "1  AND NOW FOR SOMETHING COMPLETELY DIFFERENT  Κωμωδία   \n",
              "2             Monty Python and the Holy Grail  Κωμωδία   \n",
              "3             Monty Python and the Holy Grail  Κωμωδία   \n",
              "4             Monty Python and the Holy Grail  Κωμωδία   \n",
              "\n",
              "                     director  movie lenght  movie date             author  \\\n",
              "0               Ίαν Μακ Νότον            88        1971             Marvin   \n",
              "1               Ίαν Μακ Νότον            88        1971  Χριστόφορος Ζώνας   \n",
              "2  Τέρι Γκίλιαμ, Τέρι Τζόουνς            91        1975             Vandim   \n",
              "3  Τέρι Γκίλιαμ, Τέρι Τζόουνς            91        1975                 dH   \n",
              "4  Τέρι Γκίλιαμ, Τέρι Τζόουνς            91        1975            Orestis   \n",
              "\n",
              "   review date                                             review       stars  \\\n",
              "0         2002  Φοβερή η σύλληψη του χιούμορ από τους Python''...  4 αστεράκΑ   \n",
              "1         2002  Από τις καλύτερς στιγμές των Μ.Π., ισάξιο μόνο...  5 αστεράκΑ   \n",
              "2         2020  Κλασικό! Από τις καλύτερες και ανατρεπτικότερε...  4 αστεράκΑ   \n",
              "3         2015  Μου θυμιζει τα κόμικ του Αστερίξ που όσο μεγάλ...  5 αστεράκΑ   \n",
              "4         2014                                      Το κάτι άλλο!  5 αστεράκΑ   \n",
              "\n",
              "   label  mean of stars  number of reviews  \\\n",
              "0    4.0            4.5                  2   \n",
              "1    5.0            4.5                  2   \n",
              "2    4.0            4.0                 32   \n",
              "3    5.0            4.0                 32   \n",
              "4    5.0            4.0                 32   \n",
              "\n",
              "                                                 url  \\\n",
              "0  https://www.athinorama.gr/cinema/movieratings....   \n",
              "1  https://www.athinorama.gr/cinema/movieratings....   \n",
              "2  https://www.athinorama.gr/cinema/movieratings....   \n",
              "3  https://www.athinorama.gr/cinema/movieratings....   \n",
              "4  https://www.athinorama.gr/cinema/movieratings....   \n",
              "\n",
              "                                        review_lower  sentiment  \n",
              "0  φοβερή σύλληψη χιούμορ από τους pythons ιδανικ...          1  \n",
              "1  από καλύτερς στιγμές μπ ισάξιο μόνο monty pyth...          1  \n",
              "2  κλασικό από καλύτερες ανατρεπτικότερες κωμωδίε...          1  \n",
              "3  μου θυμιζει κόμικ αστερίξ όσο μεγάλωνα ανακάλυ...          1  \n",
              "4                                          κάτι άλλο          1  "
            ],
            "text/html": [
              "\n",
              "  <div id=\"df-7389ccd0-facf-4d4d-8af8-249d08e75001\">\n",
              "    <div class=\"colab-df-container\">\n",
              "      <div>\n",
              "<style scoped>\n",
              "    .dataframe tbody tr th:only-of-type {\n",
              "        vertical-align: middle;\n",
              "    }\n",
              "\n",
              "    .dataframe tbody tr th {\n",
              "        vertical-align: top;\n",
              "    }\n",
              "\n",
              "    .dataframe thead th {\n",
              "        text-align: right;\n",
              "    }\n",
              "</style>\n",
              "<table border=\"1\" class=\"dataframe\">\n",
              "  <thead>\n",
              "    <tr style=\"text-align: right;\">\n",
              "      <th></th>\n",
              "      <th>id number</th>\n",
              "      <th>greek title</th>\n",
              "      <th>original title</th>\n",
              "      <th>category</th>\n",
              "      <th>director</th>\n",
              "      <th>movie lenght</th>\n",
              "      <th>movie date</th>\n",
              "      <th>author</th>\n",
              "      <th>review date</th>\n",
              "      <th>review</th>\n",
              "      <th>stars</th>\n",
              "      <th>label</th>\n",
              "      <th>mean of stars</th>\n",
              "      <th>number of reviews</th>\n",
              "      <th>url</th>\n",
              "      <th>review_lower</th>\n",
              "      <th>sentiment</th>\n",
              "    </tr>\n",
              "  </thead>\n",
              "  <tbody>\n",
              "    <tr>\n",
              "      <th>0</th>\n",
              "      <td>0</td>\n",
              "      <td>Και Τώρα Κάτι Τελείως Διαφορετικό</td>\n",
              "      <td>AND NOW FOR SOMETHING COMPLETELY DIFFERENT</td>\n",
              "      <td>Κωμωδία</td>\n",
              "      <td>Ίαν Μακ Νότον</td>\n",
              "      <td>88</td>\n",
              "      <td>1971</td>\n",
              "      <td>Marvin</td>\n",
              "      <td>2002</td>\n",
              "      <td>Φοβερή η σύλληψη του χιούμορ από τους Python''...</td>\n",
              "      <td>4 αστεράκΑ</td>\n",
              "      <td>4.0</td>\n",
              "      <td>4.5</td>\n",
              "      <td>2</td>\n",
              "      <td>https://www.athinorama.gr/cinema/movieratings....</td>\n",
              "      <td>φοβερή σύλληψη χιούμορ από τους pythons ιδανικ...</td>\n",
              "      <td>1</td>\n",
              "    </tr>\n",
              "    <tr>\n",
              "      <th>1</th>\n",
              "      <td>1</td>\n",
              "      <td>Και Τώρα Κάτι Τελείως Διαφορετικό</td>\n",
              "      <td>AND NOW FOR SOMETHING COMPLETELY DIFFERENT</td>\n",
              "      <td>Κωμωδία</td>\n",
              "      <td>Ίαν Μακ Νότον</td>\n",
              "      <td>88</td>\n",
              "      <td>1971</td>\n",
              "      <td>Χριστόφορος Ζώνας</td>\n",
              "      <td>2002</td>\n",
              "      <td>Από τις καλύτερς στιγμές των Μ.Π., ισάξιο μόνο...</td>\n",
              "      <td>5 αστεράκΑ</td>\n",
              "      <td>5.0</td>\n",
              "      <td>4.5</td>\n",
              "      <td>2</td>\n",
              "      <td>https://www.athinorama.gr/cinema/movieratings....</td>\n",
              "      <td>από καλύτερς στιγμές μπ ισάξιο μόνο monty pyth...</td>\n",
              "      <td>1</td>\n",
              "    </tr>\n",
              "    <tr>\n",
              "      <th>2</th>\n",
              "      <td>2</td>\n",
              "      <td>Το Αδελφάτο των Ιπποτών της Ελεεινής Τραπέζης</td>\n",
              "      <td>Monty Python and the Holy Grail</td>\n",
              "      <td>Κωμωδία</td>\n",
              "      <td>Τέρι Γκίλιαμ, Τέρι Τζόουνς</td>\n",
              "      <td>91</td>\n",
              "      <td>1975</td>\n",
              "      <td>Vandim</td>\n",
              "      <td>2020</td>\n",
              "      <td>Κλασικό! Από τις καλύτερες και ανατρεπτικότερε...</td>\n",
              "      <td>4 αστεράκΑ</td>\n",
              "      <td>4.0</td>\n",
              "      <td>4.0</td>\n",
              "      <td>32</td>\n",
              "      <td>https://www.athinorama.gr/cinema/movieratings....</td>\n",
              "      <td>κλασικό από καλύτερες ανατρεπτικότερες κωμωδίε...</td>\n",
              "      <td>1</td>\n",
              "    </tr>\n",
              "    <tr>\n",
              "      <th>3</th>\n",
              "      <td>3</td>\n",
              "      <td>Το Αδελφάτο των Ιπποτών της Ελεεινής Τραπέζης</td>\n",
              "      <td>Monty Python and the Holy Grail</td>\n",
              "      <td>Κωμωδία</td>\n",
              "      <td>Τέρι Γκίλιαμ, Τέρι Τζόουνς</td>\n",
              "      <td>91</td>\n",
              "      <td>1975</td>\n",
              "      <td>dH</td>\n",
              "      <td>2015</td>\n",
              "      <td>Μου θυμιζει τα κόμικ του Αστερίξ που όσο μεγάλ...</td>\n",
              "      <td>5 αστεράκΑ</td>\n",
              "      <td>5.0</td>\n",
              "      <td>4.0</td>\n",
              "      <td>32</td>\n",
              "      <td>https://www.athinorama.gr/cinema/movieratings....</td>\n",
              "      <td>μου θυμιζει κόμικ αστερίξ όσο μεγάλωνα ανακάλυ...</td>\n",
              "      <td>1</td>\n",
              "    </tr>\n",
              "    <tr>\n",
              "      <th>4</th>\n",
              "      <td>4</td>\n",
              "      <td>Το Αδελφάτο των Ιπποτών της Ελεεινής Τραπέζης</td>\n",
              "      <td>Monty Python and the Holy Grail</td>\n",
              "      <td>Κωμωδία</td>\n",
              "      <td>Τέρι Γκίλιαμ, Τέρι Τζόουνς</td>\n",
              "      <td>91</td>\n",
              "      <td>1975</td>\n",
              "      <td>Orestis</td>\n",
              "      <td>2014</td>\n",
              "      <td>Το κάτι άλλο!</td>\n",
              "      <td>5 αστεράκΑ</td>\n",
              "      <td>5.0</td>\n",
              "      <td>4.0</td>\n",
              "      <td>32</td>\n",
              "      <td>https://www.athinorama.gr/cinema/movieratings....</td>\n",
              "      <td>κάτι άλλο</td>\n",
              "      <td>1</td>\n",
              "    </tr>\n",
              "  </tbody>\n",
              "</table>\n",
              "</div>\n",
              "      <button class=\"colab-df-convert\" onclick=\"convertToInteractive('df-7389ccd0-facf-4d4d-8af8-249d08e75001')\"\n",
              "              title=\"Convert this dataframe to an interactive table.\"\n",
              "              style=\"display:none;\">\n",
              "        \n",
              "  <svg xmlns=\"http://www.w3.org/2000/svg\" height=\"24px\"viewBox=\"0 0 24 24\"\n",
              "       width=\"24px\">\n",
              "    <path d=\"M0 0h24v24H0V0z\" fill=\"none\"/>\n",
              "    <path d=\"M18.56 5.44l.94 2.06.94-2.06 2.06-.94-2.06-.94-.94-2.06-.94 2.06-2.06.94zm-11 1L8.5 8.5l.94-2.06 2.06-.94-2.06-.94L8.5 2.5l-.94 2.06-2.06.94zm10 10l.94 2.06.94-2.06 2.06-.94-2.06-.94-.94-2.06-.94 2.06-2.06.94z\"/><path d=\"M17.41 7.96l-1.37-1.37c-.4-.4-.92-.59-1.43-.59-.52 0-1.04.2-1.43.59L10.3 9.45l-7.72 7.72c-.78.78-.78 2.05 0 2.83L4 21.41c.39.39.9.59 1.41.59.51 0 1.02-.2 1.41-.59l7.78-7.78 2.81-2.81c.8-.78.8-2.07 0-2.86zM5.41 20L4 18.59l7.72-7.72 1.47 1.35L5.41 20z\"/>\n",
              "  </svg>\n",
              "      </button>\n",
              "      \n",
              "  <style>\n",
              "    .colab-df-container {\n",
              "      display:flex;\n",
              "      flex-wrap:wrap;\n",
              "      gap: 12px;\n",
              "    }\n",
              "\n",
              "    .colab-df-convert {\n",
              "      background-color: #E8F0FE;\n",
              "      border: none;\n",
              "      border-radius: 50%;\n",
              "      cursor: pointer;\n",
              "      display: none;\n",
              "      fill: #1967D2;\n",
              "      height: 32px;\n",
              "      padding: 0 0 0 0;\n",
              "      width: 32px;\n",
              "    }\n",
              "\n",
              "    .colab-df-convert:hover {\n",
              "      background-color: #E2EBFA;\n",
              "      box-shadow: 0px 1px 2px rgba(60, 64, 67, 0.3), 0px 1px 3px 1px rgba(60, 64, 67, 0.15);\n",
              "      fill: #174EA6;\n",
              "    }\n",
              "\n",
              "    [theme=dark] .colab-df-convert {\n",
              "      background-color: #3B4455;\n",
              "      fill: #D2E3FC;\n",
              "    }\n",
              "\n",
              "    [theme=dark] .colab-df-convert:hover {\n",
              "      background-color: #434B5C;\n",
              "      box-shadow: 0px 1px 3px 1px rgba(0, 0, 0, 0.15);\n",
              "      filter: drop-shadow(0px 1px 2px rgba(0, 0, 0, 0.3));\n",
              "      fill: #FFFFFF;\n",
              "    }\n",
              "  </style>\n",
              "\n",
              "      <script>\n",
              "        const buttonEl =\n",
              "          document.querySelector('#df-7389ccd0-facf-4d4d-8af8-249d08e75001 button.colab-df-convert');\n",
              "        buttonEl.style.display =\n",
              "          google.colab.kernel.accessAllowed ? 'block' : 'none';\n",
              "\n",
              "        async function convertToInteractive(key) {\n",
              "          const element = document.querySelector('#df-7389ccd0-facf-4d4d-8af8-249d08e75001');\n",
              "          const dataTable =\n",
              "            await google.colab.kernel.invokeFunction('convertToInteractive',\n",
              "                                                     [key], {});\n",
              "          if (!dataTable) return;\n",
              "\n",
              "          const docLinkHtml = 'Like what you see? Visit the ' +\n",
              "            '<a target=\"_blank\" href=https://colab.research.google.com/notebooks/data_table.ipynb>data table notebook</a>'\n",
              "            + ' to learn more about interactive tables.';\n",
              "          element.innerHTML = '';\n",
              "          dataTable['output_type'] = 'display_data';\n",
              "          await google.colab.output.renderOutput(dataTable, element);\n",
              "          const docLink = document.createElement('div');\n",
              "          docLink.innerHTML = docLinkHtml;\n",
              "          element.appendChild(docLink);\n",
              "        }\n",
              "      </script>\n",
              "    </div>\n",
              "  </div>\n",
              "  "
            ]
          },
          "metadata": {},
          "execution_count": 31
        }
      ],
      "source": [
        "df.head()"
      ]
    },
    {
      "cell_type": "code",
      "execution_count": null,
      "metadata": {
        "colab": {
          "base_uri": "https://localhost:8080/"
        },
        "id": "xuGdUieKTwYk",
        "outputId": "895cff10-a1b3-4c88-8a72-51d98278be73"
      },
      "outputs": [
        {
          "output_type": "execute_result",
          "data": {
            "text/plain": [
              "1    78085\n",
              "0    53023\n",
              "Name: sentiment, dtype: int64"
            ]
          },
          "metadata": {},
          "execution_count": 32
        }
      ],
      "source": [
        "# count values of 0 and 1\n",
        "df.sentiment.value_counts()"
      ]
    },
    {
      "cell_type": "code",
      "execution_count": null,
      "metadata": {
        "colab": {
          "base_uri": "https://localhost:8080/"
        },
        "id": "GGZ1fDWUUI1T",
        "outputId": "27110656-b475-4899-ac14-5986cee17e7e"
      },
      "outputs": [
        {
          "output_type": "stream",
          "name": "stdout",
          "text": [
            "Looking in indexes: https://pypi.org/simple, https://us-python.pkg.dev/colab-wheels/public/simple/\n",
            "Collecting el-core-news-md==3.3.0\n",
            "  Downloading https://github.com/explosion/spacy-models/releases/download/el_core_news_md-3.3.0/el_core_news_md-3.3.0-py3-none-any.whl (42.9 MB)\n",
            "\u001b[K     |████████████████████████████████| 42.9 MB 1.1 MB/s \n",
            "\u001b[?25hRequirement already satisfied: spacy<3.4.0,>=3.3.0.dev0 in /usr/local/lib/python3.7/dist-packages (from el-core-news-md==3.3.0) (3.3.1)\n",
            "Requirement already satisfied: spacy-loggers<2.0.0,>=1.0.0 in /usr/local/lib/python3.7/dist-packages (from spacy<3.4.0,>=3.3.0.dev0->el-core-news-md==3.3.0) (1.0.2)\n",
            "Requirement already satisfied: pydantic!=1.8,!=1.8.1,<1.9.0,>=1.7.4 in /usr/local/lib/python3.7/dist-packages (from spacy<3.4.0,>=3.3.0.dev0->el-core-news-md==3.3.0) (1.8.2)\n",
            "Requirement already satisfied: wasabi<1.1.0,>=0.9.1 in /usr/local/lib/python3.7/dist-packages (from spacy<3.4.0,>=3.3.0.dev0->el-core-news-md==3.3.0) (0.9.1)\n",
            "Requirement already satisfied: spacy-legacy<3.1.0,>=3.0.9 in /usr/local/lib/python3.7/dist-packages (from spacy<3.4.0,>=3.3.0.dev0->el-core-news-md==3.3.0) (3.0.9)\n",
            "Requirement already satisfied: requests<3.0.0,>=2.13.0 in /usr/local/lib/python3.7/dist-packages (from spacy<3.4.0,>=3.3.0.dev0->el-core-news-md==3.3.0) (2.23.0)\n",
            "Requirement already satisfied: catalogue<2.1.0,>=2.0.6 in /usr/local/lib/python3.7/dist-packages (from spacy<3.4.0,>=3.3.0.dev0->el-core-news-md==3.3.0) (2.0.7)\n",
            "Requirement already satisfied: srsly<3.0.0,>=2.4.3 in /usr/local/lib/python3.7/dist-packages (from spacy<3.4.0,>=3.3.0.dev0->el-core-news-md==3.3.0) (2.4.3)\n",
            "Requirement already satisfied: typer<0.5.0,>=0.3.0 in /usr/local/lib/python3.7/dist-packages (from spacy<3.4.0,>=3.3.0.dev0->el-core-news-md==3.3.0) (0.4.1)\n",
            "Requirement already satisfied: jinja2 in /usr/local/lib/python3.7/dist-packages (from spacy<3.4.0,>=3.3.0.dev0->el-core-news-md==3.3.0) (2.11.3)\n",
            "Requirement already satisfied: murmurhash<1.1.0,>=0.28.0 in /usr/local/lib/python3.7/dist-packages (from spacy<3.4.0,>=3.3.0.dev0->el-core-news-md==3.3.0) (1.0.7)\n",
            "Requirement already satisfied: langcodes<4.0.0,>=3.2.0 in /usr/local/lib/python3.7/dist-packages (from spacy<3.4.0,>=3.3.0.dev0->el-core-news-md==3.3.0) (3.3.0)\n",
            "Requirement already satisfied: thinc<8.1.0,>=8.0.14 in /usr/local/lib/python3.7/dist-packages (from spacy<3.4.0,>=3.3.0.dev0->el-core-news-md==3.3.0) (8.0.17)\n",
            "Requirement already satisfied: preshed<3.1.0,>=3.0.2 in /usr/local/lib/python3.7/dist-packages (from spacy<3.4.0,>=3.3.0.dev0->el-core-news-md==3.3.0) (3.0.6)\n",
            "Requirement already satisfied: packaging>=20.0 in /usr/local/lib/python3.7/dist-packages (from spacy<3.4.0,>=3.3.0.dev0->el-core-news-md==3.3.0) (21.3)\n",
            "Requirement already satisfied: numpy>=1.15.0 in /usr/local/lib/python3.7/dist-packages (from spacy<3.4.0,>=3.3.0.dev0->el-core-news-md==3.3.0) (1.21.6)\n",
            "Requirement already satisfied: tqdm<5.0.0,>=4.38.0 in /usr/local/lib/python3.7/dist-packages (from spacy<3.4.0,>=3.3.0.dev0->el-core-news-md==3.3.0) (4.64.0)\n",
            "Requirement already satisfied: blis<0.8.0,>=0.4.0 in /usr/local/lib/python3.7/dist-packages (from spacy<3.4.0,>=3.3.0.dev0->el-core-news-md==3.3.0) (0.7.7)\n",
            "Requirement already satisfied: pathy>=0.3.5 in /usr/local/lib/python3.7/dist-packages (from spacy<3.4.0,>=3.3.0.dev0->el-core-news-md==3.3.0) (0.6.1)\n",
            "Requirement already satisfied: setuptools in /usr/local/lib/python3.7/dist-packages (from spacy<3.4.0,>=3.3.0.dev0->el-core-news-md==3.3.0) (57.4.0)\n",
            "Requirement already satisfied: typing-extensions<4.2.0,>=3.7.4 in /usr/local/lib/python3.7/dist-packages (from spacy<3.4.0,>=3.3.0.dev0->el-core-news-md==3.3.0) (4.1.1)\n",
            "Requirement already satisfied: cymem<2.1.0,>=2.0.2 in /usr/local/lib/python3.7/dist-packages (from spacy<3.4.0,>=3.3.0.dev0->el-core-news-md==3.3.0) (2.0.6)\n",
            "Requirement already satisfied: zipp>=0.5 in /usr/local/lib/python3.7/dist-packages (from catalogue<2.1.0,>=2.0.6->spacy<3.4.0,>=3.3.0.dev0->el-core-news-md==3.3.0) (3.8.0)\n",
            "Requirement already satisfied: pyparsing!=3.0.5,>=2.0.2 in /usr/local/lib/python3.7/dist-packages (from packaging>=20.0->spacy<3.4.0,>=3.3.0.dev0->el-core-news-md==3.3.0) (3.0.9)\n",
            "Requirement already satisfied: smart-open<6.0.0,>=5.0.0 in /usr/local/lib/python3.7/dist-packages (from pathy>=0.3.5->spacy<3.4.0,>=3.3.0.dev0->el-core-news-md==3.3.0) (5.2.1)\n",
            "Requirement already satisfied: certifi>=2017.4.17 in /usr/local/lib/python3.7/dist-packages (from requests<3.0.0,>=2.13.0->spacy<3.4.0,>=3.3.0.dev0->el-core-news-md==3.3.0) (2022.6.15)\n",
            "Requirement already satisfied: idna<3,>=2.5 in /usr/local/lib/python3.7/dist-packages (from requests<3.0.0,>=2.13.0->spacy<3.4.0,>=3.3.0.dev0->el-core-news-md==3.3.0) (2.10)\n",
            "Requirement already satisfied: chardet<4,>=3.0.2 in /usr/local/lib/python3.7/dist-packages (from requests<3.0.0,>=2.13.0->spacy<3.4.0,>=3.3.0.dev0->el-core-news-md==3.3.0) (3.0.4)\n",
            "Requirement already satisfied: urllib3!=1.25.0,!=1.25.1,<1.26,>=1.21.1 in /usr/local/lib/python3.7/dist-packages (from requests<3.0.0,>=2.13.0->spacy<3.4.0,>=3.3.0.dev0->el-core-news-md==3.3.0) (1.24.3)\n",
            "Requirement already satisfied: click<9.0.0,>=7.1.1 in /usr/local/lib/python3.7/dist-packages (from typer<0.5.0,>=0.3.0->spacy<3.4.0,>=3.3.0.dev0->el-core-news-md==3.3.0) (7.1.2)\n",
            "Requirement already satisfied: MarkupSafe>=0.23 in /usr/local/lib/python3.7/dist-packages (from jinja2->spacy<3.4.0,>=3.3.0.dev0->el-core-news-md==3.3.0) (2.0.1)\n",
            "Installing collected packages: el-core-news-md\n",
            "Successfully installed el-core-news-md-3.3.0\n",
            "\u001b[38;5;2m✔ Download and installation successful\u001b[0m\n",
            "You can now load the package via spacy.load('el_core_news_md')\n"
          ]
        }
      ],
      "source": [
        "#download the greek pipeline for lemmatizer\n",
        "! python -m spacy download el_core_news_md"
      ]
    },
    {
      "cell_type": "code",
      "execution_count": null,
      "metadata": {
        "id": "dncn0r3qUNuh"
      },
      "outputs": [],
      "source": [
        "\n",
        "#import required libraries\n",
        "import spacy\n",
        "import el_core_news_md"
      ]
    },
    {
      "cell_type": "code",
      "execution_count": null,
      "metadata": {
        "id": "yUABShXJUS4O"
      },
      "outputs": [],
      "source": [
        "nlp = el_core_news_md.load()"
      ]
    },
    {
      "cell_type": "code",
      "execution_count": null,
      "metadata": {
        "id": "sd0jQZdZUYgW"
      },
      "outputs": [],
      "source": [
        "# text lemmatization a process that transform each word to its lemma and reduce the amount of unique words\n",
        "def lemmatize_text(text):\n",
        "    text = nlp(text)\n",
        "    text = ' '.join([word.lemma_ if word.lemma_ != '-PRON-' else word.text for word in text])\n",
        "    return text"
      ]
    },
    {
      "cell_type": "code",
      "execution_count": null,
      "metadata": {
        "id": "56Nhb2V-UZnD"
      },
      "outputs": [],
      "source": [
        "df['review_lower'] = df['review_lower'].apply(lemmatize_text)"
      ]
    },
    {
      "cell_type": "code",
      "execution_count": null,
      "metadata": {
        "colab": {
          "base_uri": "https://localhost:8080/",
          "height": 756
        },
        "id": "iOpneif4UfD2",
        "outputId": "415d7c43-a0b3-4be7-f988-31e9ffd358cc"
      },
      "outputs": [
        {
          "output_type": "execute_result",
          "data": {
            "text/plain": [
              "   id number                                    greek title  \\\n",
              "0          0              Και Τώρα Κάτι Τελείως Διαφορετικό   \n",
              "1          1              Και Τώρα Κάτι Τελείως Διαφορετικό   \n",
              "2          2  Το Αδελφάτο των Ιπποτών της Ελεεινής Τραπέζης   \n",
              "3          3  Το Αδελφάτο των Ιπποτών της Ελεεινής Τραπέζης   \n",
              "4          4  Το Αδελφάτο των Ιπποτών της Ελεεινής Τραπέζης   \n",
              "\n",
              "                               original title category  \\\n",
              "0  AND NOW FOR SOMETHING COMPLETELY DIFFERENT  Κωμωδία   \n",
              "1  AND NOW FOR SOMETHING COMPLETELY DIFFERENT  Κωμωδία   \n",
              "2             Monty Python and the Holy Grail  Κωμωδία   \n",
              "3             Monty Python and the Holy Grail  Κωμωδία   \n",
              "4             Monty Python and the Holy Grail  Κωμωδία   \n",
              "\n",
              "                     director  movie lenght  movie date             author  \\\n",
              "0               Ίαν Μακ Νότον            88        1971             Marvin   \n",
              "1               Ίαν Μακ Νότον            88        1971  Χριστόφορος Ζώνας   \n",
              "2  Τέρι Γκίλιαμ, Τέρι Τζόουνς            91        1975             Vandim   \n",
              "3  Τέρι Γκίλιαμ, Τέρι Τζόουνς            91        1975                 dH   \n",
              "4  Τέρι Γκίλιαμ, Τέρι Τζόουνς            91        1975            Orestis   \n",
              "\n",
              "   review date                                             review       stars  \\\n",
              "0         2002  Φοβερή η σύλληψη του χιούμορ από τους Python''...  4 αστεράκΑ   \n",
              "1         2002  Από τις καλύτερς στιγμές των Μ.Π., ισάξιο μόνο...  5 αστεράκΑ   \n",
              "2         2020  Κλασικό! Από τις καλύτερες και ανατρεπτικότερε...  4 αστεράκΑ   \n",
              "3         2015  Μου θυμιζει τα κόμικ του Αστερίξ που όσο μεγάλ...  5 αστεράκΑ   \n",
              "4         2014                                      Το κάτι άλλο!  5 αστεράκΑ   \n",
              "\n",
              "   label  mean of stars  number of reviews  \\\n",
              "0    4.0            4.5                  2   \n",
              "1    5.0            4.5                  2   \n",
              "2    4.0            4.0                 32   \n",
              "3    5.0            4.0                 32   \n",
              "4    5.0            4.0                 32   \n",
              "\n",
              "                                                 url  \\\n",
              "0  https://www.athinorama.gr/cinema/movieratings....   \n",
              "1  https://www.athinorama.gr/cinema/movieratings....   \n",
              "2  https://www.athinorama.gr/cinema/movieratings....   \n",
              "3  https://www.athinorama.gr/cinema/movieratings....   \n",
              "4  https://www.athinorama.gr/cinema/movieratings....   \n",
              "\n",
              "                                        review_lower  sentiment  \n",
              "0  φοβερός σύλληψη χιούμορ από ο pythons ιδανικός...          1  \n",
              "1  από καλύτερςς στιγμή μπ ισάξιο μόνο monty pyth...          1  \n",
              "2  κλασικός από καλύτερες ανατρεπτικός κωμωδία όλ...          1  \n",
              "3  μου θυμιζω κόμικ αστερίξ όσο μεγάλωνα ανακάλυπ...          1  \n",
              "4                                         κάτι άλλος          1  "
            ],
            "text/html": [
              "\n",
              "  <div id=\"df-c0f94349-f7f0-49bd-9270-43a92a25b91c\">\n",
              "    <div class=\"colab-df-container\">\n",
              "      <div>\n",
              "<style scoped>\n",
              "    .dataframe tbody tr th:only-of-type {\n",
              "        vertical-align: middle;\n",
              "    }\n",
              "\n",
              "    .dataframe tbody tr th {\n",
              "        vertical-align: top;\n",
              "    }\n",
              "\n",
              "    .dataframe thead th {\n",
              "        text-align: right;\n",
              "    }\n",
              "</style>\n",
              "<table border=\"1\" class=\"dataframe\">\n",
              "  <thead>\n",
              "    <tr style=\"text-align: right;\">\n",
              "      <th></th>\n",
              "      <th>id number</th>\n",
              "      <th>greek title</th>\n",
              "      <th>original title</th>\n",
              "      <th>category</th>\n",
              "      <th>director</th>\n",
              "      <th>movie lenght</th>\n",
              "      <th>movie date</th>\n",
              "      <th>author</th>\n",
              "      <th>review date</th>\n",
              "      <th>review</th>\n",
              "      <th>stars</th>\n",
              "      <th>label</th>\n",
              "      <th>mean of stars</th>\n",
              "      <th>number of reviews</th>\n",
              "      <th>url</th>\n",
              "      <th>review_lower</th>\n",
              "      <th>sentiment</th>\n",
              "    </tr>\n",
              "  </thead>\n",
              "  <tbody>\n",
              "    <tr>\n",
              "      <th>0</th>\n",
              "      <td>0</td>\n",
              "      <td>Και Τώρα Κάτι Τελείως Διαφορετικό</td>\n",
              "      <td>AND NOW FOR SOMETHING COMPLETELY DIFFERENT</td>\n",
              "      <td>Κωμωδία</td>\n",
              "      <td>Ίαν Μακ Νότον</td>\n",
              "      <td>88</td>\n",
              "      <td>1971</td>\n",
              "      <td>Marvin</td>\n",
              "      <td>2002</td>\n",
              "      <td>Φοβερή η σύλληψη του χιούμορ από τους Python''...</td>\n",
              "      <td>4 αστεράκΑ</td>\n",
              "      <td>4.0</td>\n",
              "      <td>4.5</td>\n",
              "      <td>2</td>\n",
              "      <td>https://www.athinorama.gr/cinema/movieratings....</td>\n",
              "      <td>φοβερός σύλληψη χιούμορ από ο pythons ιδανικός...</td>\n",
              "      <td>1</td>\n",
              "    </tr>\n",
              "    <tr>\n",
              "      <th>1</th>\n",
              "      <td>1</td>\n",
              "      <td>Και Τώρα Κάτι Τελείως Διαφορετικό</td>\n",
              "      <td>AND NOW FOR SOMETHING COMPLETELY DIFFERENT</td>\n",
              "      <td>Κωμωδία</td>\n",
              "      <td>Ίαν Μακ Νότον</td>\n",
              "      <td>88</td>\n",
              "      <td>1971</td>\n",
              "      <td>Χριστόφορος Ζώνας</td>\n",
              "      <td>2002</td>\n",
              "      <td>Από τις καλύτερς στιγμές των Μ.Π., ισάξιο μόνο...</td>\n",
              "      <td>5 αστεράκΑ</td>\n",
              "      <td>5.0</td>\n",
              "      <td>4.5</td>\n",
              "      <td>2</td>\n",
              "      <td>https://www.athinorama.gr/cinema/movieratings....</td>\n",
              "      <td>από καλύτερςς στιγμή μπ ισάξιο μόνο monty pyth...</td>\n",
              "      <td>1</td>\n",
              "    </tr>\n",
              "    <tr>\n",
              "      <th>2</th>\n",
              "      <td>2</td>\n",
              "      <td>Το Αδελφάτο των Ιπποτών της Ελεεινής Τραπέζης</td>\n",
              "      <td>Monty Python and the Holy Grail</td>\n",
              "      <td>Κωμωδία</td>\n",
              "      <td>Τέρι Γκίλιαμ, Τέρι Τζόουνς</td>\n",
              "      <td>91</td>\n",
              "      <td>1975</td>\n",
              "      <td>Vandim</td>\n",
              "      <td>2020</td>\n",
              "      <td>Κλασικό! Από τις καλύτερες και ανατρεπτικότερε...</td>\n",
              "      <td>4 αστεράκΑ</td>\n",
              "      <td>4.0</td>\n",
              "      <td>4.0</td>\n",
              "      <td>32</td>\n",
              "      <td>https://www.athinorama.gr/cinema/movieratings....</td>\n",
              "      <td>κλασικός από καλύτερες ανατρεπτικός κωμωδία όλ...</td>\n",
              "      <td>1</td>\n",
              "    </tr>\n",
              "    <tr>\n",
              "      <th>3</th>\n",
              "      <td>3</td>\n",
              "      <td>Το Αδελφάτο των Ιπποτών της Ελεεινής Τραπέζης</td>\n",
              "      <td>Monty Python and the Holy Grail</td>\n",
              "      <td>Κωμωδία</td>\n",
              "      <td>Τέρι Γκίλιαμ, Τέρι Τζόουνς</td>\n",
              "      <td>91</td>\n",
              "      <td>1975</td>\n",
              "      <td>dH</td>\n",
              "      <td>2015</td>\n",
              "      <td>Μου θυμιζει τα κόμικ του Αστερίξ που όσο μεγάλ...</td>\n",
              "      <td>5 αστεράκΑ</td>\n",
              "      <td>5.0</td>\n",
              "      <td>4.0</td>\n",
              "      <td>32</td>\n",
              "      <td>https://www.athinorama.gr/cinema/movieratings....</td>\n",
              "      <td>μου θυμιζω κόμικ αστερίξ όσο μεγάλωνα ανακάλυπ...</td>\n",
              "      <td>1</td>\n",
              "    </tr>\n",
              "    <tr>\n",
              "      <th>4</th>\n",
              "      <td>4</td>\n",
              "      <td>Το Αδελφάτο των Ιπποτών της Ελεεινής Τραπέζης</td>\n",
              "      <td>Monty Python and the Holy Grail</td>\n",
              "      <td>Κωμωδία</td>\n",
              "      <td>Τέρι Γκίλιαμ, Τέρι Τζόουνς</td>\n",
              "      <td>91</td>\n",
              "      <td>1975</td>\n",
              "      <td>Orestis</td>\n",
              "      <td>2014</td>\n",
              "      <td>Το κάτι άλλο!</td>\n",
              "      <td>5 αστεράκΑ</td>\n",
              "      <td>5.0</td>\n",
              "      <td>4.0</td>\n",
              "      <td>32</td>\n",
              "      <td>https://www.athinorama.gr/cinema/movieratings....</td>\n",
              "      <td>κάτι άλλος</td>\n",
              "      <td>1</td>\n",
              "    </tr>\n",
              "  </tbody>\n",
              "</table>\n",
              "</div>\n",
              "      <button class=\"colab-df-convert\" onclick=\"convertToInteractive('df-c0f94349-f7f0-49bd-9270-43a92a25b91c')\"\n",
              "              title=\"Convert this dataframe to an interactive table.\"\n",
              "              style=\"display:none;\">\n",
              "        \n",
              "  <svg xmlns=\"http://www.w3.org/2000/svg\" height=\"24px\"viewBox=\"0 0 24 24\"\n",
              "       width=\"24px\">\n",
              "    <path d=\"M0 0h24v24H0V0z\" fill=\"none\"/>\n",
              "    <path d=\"M18.56 5.44l.94 2.06.94-2.06 2.06-.94-2.06-.94-.94-2.06-.94 2.06-2.06.94zm-11 1L8.5 8.5l.94-2.06 2.06-.94-2.06-.94L8.5 2.5l-.94 2.06-2.06.94zm10 10l.94 2.06.94-2.06 2.06-.94-2.06-.94-.94-2.06-.94 2.06-2.06.94z\"/><path d=\"M17.41 7.96l-1.37-1.37c-.4-.4-.92-.59-1.43-.59-.52 0-1.04.2-1.43.59L10.3 9.45l-7.72 7.72c-.78.78-.78 2.05 0 2.83L4 21.41c.39.39.9.59 1.41.59.51 0 1.02-.2 1.41-.59l7.78-7.78 2.81-2.81c.8-.78.8-2.07 0-2.86zM5.41 20L4 18.59l7.72-7.72 1.47 1.35L5.41 20z\"/>\n",
              "  </svg>\n",
              "      </button>\n",
              "      \n",
              "  <style>\n",
              "    .colab-df-container {\n",
              "      display:flex;\n",
              "      flex-wrap:wrap;\n",
              "      gap: 12px;\n",
              "    }\n",
              "\n",
              "    .colab-df-convert {\n",
              "      background-color: #E8F0FE;\n",
              "      border: none;\n",
              "      border-radius: 50%;\n",
              "      cursor: pointer;\n",
              "      display: none;\n",
              "      fill: #1967D2;\n",
              "      height: 32px;\n",
              "      padding: 0 0 0 0;\n",
              "      width: 32px;\n",
              "    }\n",
              "\n",
              "    .colab-df-convert:hover {\n",
              "      background-color: #E2EBFA;\n",
              "      box-shadow: 0px 1px 2px rgba(60, 64, 67, 0.3), 0px 1px 3px 1px rgba(60, 64, 67, 0.15);\n",
              "      fill: #174EA6;\n",
              "    }\n",
              "\n",
              "    [theme=dark] .colab-df-convert {\n",
              "      background-color: #3B4455;\n",
              "      fill: #D2E3FC;\n",
              "    }\n",
              "\n",
              "    [theme=dark] .colab-df-convert:hover {\n",
              "      background-color: #434B5C;\n",
              "      box-shadow: 0px 1px 3px 1px rgba(0, 0, 0, 0.15);\n",
              "      filter: drop-shadow(0px 1px 2px rgba(0, 0, 0, 0.3));\n",
              "      fill: #FFFFFF;\n",
              "    }\n",
              "  </style>\n",
              "\n",
              "      <script>\n",
              "        const buttonEl =\n",
              "          document.querySelector('#df-c0f94349-f7f0-49bd-9270-43a92a25b91c button.colab-df-convert');\n",
              "        buttonEl.style.display =\n",
              "          google.colab.kernel.accessAllowed ? 'block' : 'none';\n",
              "\n",
              "        async function convertToInteractive(key) {\n",
              "          const element = document.querySelector('#df-c0f94349-f7f0-49bd-9270-43a92a25b91c');\n",
              "          const dataTable =\n",
              "            await google.colab.kernel.invokeFunction('convertToInteractive',\n",
              "                                                     [key], {});\n",
              "          if (!dataTable) return;\n",
              "\n",
              "          const docLinkHtml = 'Like what you see? Visit the ' +\n",
              "            '<a target=\"_blank\" href=https://colab.research.google.com/notebooks/data_table.ipynb>data table notebook</a>'\n",
              "            + ' to learn more about interactive tables.';\n",
              "          element.innerHTML = '';\n",
              "          dataTable['output_type'] = 'display_data';\n",
              "          await google.colab.output.renderOutput(dataTable, element);\n",
              "          const docLink = document.createElement('div');\n",
              "          docLink.innerHTML = docLinkHtml;\n",
              "          element.appendChild(docLink);\n",
              "        }\n",
              "      </script>\n",
              "    </div>\n",
              "  </div>\n",
              "  "
            ]
          },
          "metadata": {},
          "execution_count": 38
        }
      ],
      "source": [
        "df.head()"
      ]
    },
    {
      "cell_type": "markdown",
      "metadata": {
        "id": "MwPZk7MCftLe"
      },
      "source": [
        "# **Text Vectorization**\n",
        "Machine learning algorithms cannot understand words that is why we have to transform them into a readable form and in this case into numbers-vectors. I used two types of vectorizers. One of them is countvectorizer which counts only the number of times a word appears in the document. The other one is the Tfidf vectorizer which takes into account not only the frequency of them in the document but also accross the corpus."
      ]
    },
    {
      "cell_type": "markdown",
      "metadata": {
        "id": "3tYQJ5EiUXca"
      },
      "source": [
        "# **Training the model**\n",
        "I tried 3 algorithms to train my model in order to see which of them gives the best results. One of them was logistic regression is a supervised classification algorithm which models the data using the sigmoid function. Another algorithm that I tested was support vector machine also a supervised machine learning algorithm which is used both for classification and regression and finds a hyperplane in an N-dimensional space that distinctly classfiesd the datapoints. The last algorithm that i tested was the Random forest which is also a supervised machine learning algorithm that is used in classification and regression problems. This algorithm builds decision trees on different samples and takes their majority vote for classification and average in case of regression."
      ]
    },
    {
      "cell_type": "code",
      "execution_count": null,
      "metadata": {
        "id": "O__gPyw5I_nr"
      },
      "outputs": [],
      "source": []
    },
    {
      "cell_type": "code",
      "execution_count": null,
      "metadata": {
        "id": "mUj38QdkFXNm"
      },
      "outputs": [],
      "source": [
        "#import needed modules\n",
        "from sklearn.model_selection import train_test_split\n",
        "from sklearn.feature_extraction.text import CountVectorizer\n",
        "from sklearn.linear_model import LogisticRegression"
      ]
    },
    {
      "cell_type": "code",
      "execution_count": null,
      "metadata": {
        "id": "40n1x0JMV1bQ"
      },
      "outputs": [],
      "source": [
        "#define X and Y\n",
        "X =df['review_lower']\n",
        "Y = df['sentiment']"
      ]
    },
    {
      "cell_type": "code",
      "execution_count": null,
      "metadata": {
        "id": "_XGb34ynVpaD"
      },
      "outputs": [],
      "source": [
        "#split the data into a train and a test part\n",
        "X_train, X_test, Y_train, Y_test= train_test_split(X, Y, test_size=0.25, random_state=0)"
      ]
    },
    {
      "cell_type": "code",
      "execution_count": null,
      "metadata": {
        "id": "0OroERbrrHWv"
      },
      "outputs": [],
      "source": []
    },
    {
      "cell_type": "code",
      "execution_count": null,
      "metadata": {
        "id": "3c0g9JLoNViT"
      },
      "outputs": [],
      "source": [
        "#Vectoring the data with bigrams\n",
        "cv = CountVectorizer(ngram_range=(1, 2))\n",
        "ctmTr = cv.fit_transform(X_train)\n",
        "X_test_dtm = cv.transform(X_test)\n"
      ]
    },
    {
      "cell_type": "code",
      "execution_count": null,
      "metadata": {
        "colab": {
          "base_uri": "https://localhost:8080/"
        },
        "id": "2FyHapY1XzcK",
        "outputId": "2835fd3d-9447-4871-8613-7c5447cd7cb7"
      },
      "outputs": [
        {
          "data": {
            "text/plain": [
              "LogisticRegression(C=1, max_iter=500, random_state=42)"
            ]
          },
          "execution_count": 42,
          "metadata": {},
          "output_type": "execute_result"
        }
      ],
      "source": [
        "#Logistic regression\n",
        "lrc = LogisticRegression(penalty='l2', max_iter=500, C=1, random_state=42)\n",
        "lrc.fit(ctmTr, Y_train)"
      ]
    },
    {
      "cell_type": "code",
      "execution_count": null,
      "metadata": {
        "colab": {
          "base_uri": "https://localhost:8080/"
        },
        "id": "ulEHdDKLYEmA",
        "outputId": "94b70b2b-89f1-4e5c-fb9b-53e79c1dce26"
      },
      "outputs": [
        {
          "name": "stdout",
          "output_type": "stream",
          "text": [
            "Results for Logistic Regression with CountVectorizer\n",
            "0.852701589529243\n"
          ]
        }
      ],
      "source": [
        "#Accuracy score\n",
        "lrc_score= lrc.score(X_test_dtm, Y_test)\n",
        "print('Results for Logistic Regression with CountVectorizer')\n",
        "print (lrc_score)"
      ]
    },
    {
      "cell_type": "code",
      "execution_count": null,
      "metadata": {
        "id": "O03wzgJyXDkE"
      },
      "outputs": [],
      "source": []
    },
    {
      "cell_type": "code",
      "execution_count": null,
      "metadata": {
        "id": "kSwVMTZUGavK"
      },
      "outputs": [],
      "source": [
        "#import required library\n",
        "from sklearn.metrics import confusion_matrix"
      ]
    },
    {
      "cell_type": "code",
      "execution_count": null,
      "metadata": {
        "id": "XrrGTO-MF2EM"
      },
      "outputs": [],
      "source": [
        "# predicting the labels for test data\n",
        "Y_pred_lrc = lrc.predict(X_test_dtm)"
      ]
    },
    {
      "cell_type": "code",
      "execution_count": null,
      "metadata": {
        "id": "THbMPjK2KCPT"
      },
      "outputs": [],
      "source": [
        "#Confusion matrix\n",
        "cm_lrc = confusion_matrix(Y_test, Y_pred_lrc)"
      ]
    },
    {
      "cell_type": "code",
      "execution_count": null,
      "metadata": {
        "colab": {
          "base_uri": "https://localhost:8080/"
        },
        "id": "hEKlbIz3KOTj",
        "outputId": "c7a7631e-a7cf-4af6-e38b-266ce17ee0ae"
      },
      "outputs": [
        {
          "name": "stdout",
          "output_type": "stream",
          "text": [
            "10473 2945 1883 17476\n"
          ]
        }
      ],
      "source": [
        "tn , fp, fn, tp = confusion_matrix(Y_test, Y_pred_lrc).ravel()\n",
        "print(tn, fp, fn, tp)"
      ]
    },
    {
      "cell_type": "code",
      "execution_count": null,
      "metadata": {
        "id": "j0nyZyRNKtBX"
      },
      "outputs": [],
      "source": [
        "#True positive and true negative rates\n",
        "tpr_lrc = round(tp/(tp + fn), 4)\n",
        "tnr_lrc = round(tn/(tn+fp), 4)"
      ]
    },
    {
      "cell_type": "code",
      "execution_count": null,
      "metadata": {
        "colab": {
          "base_uri": "https://localhost:8080/"
        },
        "id": "osU5O7GZLatz",
        "outputId": "0fed6a68-3289-4a5a-827a-5137fb84ee16"
      },
      "outputs": [
        {
          "name": "stdout",
          "output_type": "stream",
          "text": [
            "0.9027 0.7805\n"
          ]
        }
      ],
      "source": [
        "print(tpr_lrc, tnr_lrc)"
      ]
    },
    {
      "cell_type": "code",
      "execution_count": null,
      "metadata": {
        "id": "BaQrWlTPUi4p"
      },
      "outputs": [],
      "source": [
        "#Vectoring the data with trigrams\n",
        "cv = CountVectorizer(ngram_range=(1, 3))\n",
        "ctmTr = cv.fit_transform(X_train)\n",
        "X_test_dtm = cv.transform(X_test)"
      ]
    },
    {
      "cell_type": "code",
      "execution_count": null,
      "metadata": {
        "colab": {
          "base_uri": "https://localhost:8080/"
        },
        "id": "D6J1wCehV-Wh",
        "outputId": "2679377a-033d-411c-c210-9aa6b19e1c10"
      },
      "outputs": [
        {
          "data": {
            "text/plain": [
              "LogisticRegression(C=1, max_iter=500, random_state=42)"
            ]
          },
          "execution_count": 51,
          "metadata": {},
          "output_type": "execute_result"
        }
      ],
      "source": [
        "#Logistic regression\n",
        "lrc = LogisticRegression(penalty='l2', max_iter=500, C=1, random_state=42)\n",
        "lrc.fit(ctmTr, Y_train)"
      ]
    },
    {
      "cell_type": "code",
      "execution_count": null,
      "metadata": {
        "colab": {
          "base_uri": "https://localhost:8080/"
        },
        "id": "AAMdNUlyXGrA",
        "outputId": "651825f1-e6fb-484f-d898-19b04df796cc"
      },
      "outputs": [
        {
          "name": "stdout",
          "output_type": "stream",
          "text": [
            "Results for Logistic Regression with CountVectorizer\n",
            "0.852610061933673\n"
          ]
        }
      ],
      "source": [
        "#Accuracy score\n",
        "lrc_score= lrc.score(X_test_dtm, Y_test)\n",
        "print('Results for Logistic Regression with CountVectorizer')\n",
        "print (lrc_score)"
      ]
    },
    {
      "cell_type": "code",
      "execution_count": null,
      "metadata": {
        "id": "7t5Z86d4dKae"
      },
      "outputs": [],
      "source": [
        "# predicting the labels for test data\n",
        "Y_pred_lrc = lrc.predict(X_test_dtm)"
      ]
    },
    {
      "cell_type": "code",
      "execution_count": null,
      "metadata": {
        "id": "IhZFxtN8dXFD"
      },
      "outputs": [],
      "source": [
        "#Confusion matrix\n",
        "cm_lrc = confusion_matrix(Y_test, Y_pred_lrc)"
      ]
    },
    {
      "cell_type": "code",
      "execution_count": null,
      "metadata": {
        "colab": {
          "base_uri": "https://localhost:8080/"
        },
        "id": "uwXfiR7BdZZH",
        "outputId": "e3a0da6e-ee4b-462a-b6cf-963b54775a5a"
      },
      "outputs": [
        {
          "name": "stdout",
          "output_type": "stream",
          "text": [
            "10426 2992 1839 17520\n"
          ]
        }
      ],
      "source": [
        "tn , fp, fn, tp = confusion_matrix(Y_test, Y_pred_lrc).ravel()\n",
        "print(tn, fp, fn, tp)"
      ]
    },
    {
      "cell_type": "code",
      "execution_count": null,
      "metadata": {
        "id": "sderUtLidnD-"
      },
      "outputs": [],
      "source": [
        "#True positive and true negative rates\n",
        "tpr_lrc = round(tp/(tp + fn), 4)\n",
        "tnr_lrc = round(tn/(tn+fp), 4)"
      ]
    },
    {
      "cell_type": "code",
      "execution_count": null,
      "metadata": {
        "colab": {
          "base_uri": "https://localhost:8080/"
        },
        "id": "dySe_Rr1dsi2",
        "outputId": "5afca034-9850-4add-a791-95853f19e762"
      },
      "outputs": [
        {
          "name": "stdout",
          "output_type": "stream",
          "text": [
            "0.905 0.777\n"
          ]
        }
      ],
      "source": [
        "print(tpr_lrc, tnr_lrc)"
      ]
    },
    {
      "cell_type": "code",
      "execution_count": null,
      "metadata": {
        "id": "btdsMwRwW4n-"
      },
      "outputs": [],
      "source": [
        "#Support Vector Machine\n",
        "X_train, X_test, Y_train, Y_test= train_test_split(X, Y, test_size=0.25, random_state=0)\n"
      ]
    },
    {
      "cell_type": "code",
      "execution_count": null,
      "metadata": {
        "id": "cIBfdbGluli7"
      },
      "outputs": [],
      "source": [
        "#Vectorizing the text data with bigram\n",
        "cv = CountVectorizer(ngram_range=(1, 2))\n",
        "ctmTr = cv.fit_transform(X_train)\n",
        "X_test_dtm = cv.transform(X_test)"
      ]
    },
    {
      "cell_type": "code",
      "execution_count": null,
      "metadata": {
        "id": "8zLNoxumt9L6"
      },
      "outputs": [],
      "source": [
        "from sklearn import svm"
      ]
    },
    {
      "cell_type": "code",
      "execution_count": null,
      "metadata": {
        "colab": {
          "base_uri": "https://localhost:8080/"
        },
        "id": "kQW_hQcj2WMn",
        "outputId": "fa426a55-16b9-4073-ee0c-c11d18a5f924"
      },
      "outputs": [
        {
          "data": {
            "text/plain": [
              "SVC()"
            ]
          },
          "execution_count": 42,
          "metadata": {},
          "output_type": "execute_result"
        }
      ],
      "source": [
        "#Training the model\n",
        "svclc =  svm.SVC()\n",
        "svclc.fit(ctmTr, Y_train)"
      ]
    },
    {
      "cell_type": "code",
      "execution_count": null,
      "metadata": {
        "colab": {
          "base_uri": "https://localhost:8080/"
        },
        "id": "uW0rTCSPu0WH",
        "outputId": "247c6af9-5e58-447f-8d8a-6ec21abde7a2"
      },
      "outputs": [
        {
          "name": "stdout",
          "output_type": "stream",
          "text": [
            "Results for Support Vector Machine with CountVectorizer\n",
            "0.8297891814382036\n"
          ]
        }
      ],
      "source": [
        "#Accuracy score\n",
        "svclc_score = svclc.score(X_test_dtm, Y_test)\n",
        "print ('Results for Support Vector Machine with CountVectorizer')\n",
        "print(svclc_score)"
      ]
    },
    {
      "cell_type": "code",
      "execution_count": null,
      "metadata": {
        "colab": {
          "background_save": true
        },
        "id": "uRKv5LjdvRqt"
      },
      "outputs": [],
      "source": [
        "#Predicting the labels for test data\n",
        "Y_pred_svc = svclc.predict(X_test_dtm)"
      ]
    },
    {
      "cell_type": "code",
      "execution_count": null,
      "metadata": {
        "id": "tv6YnTbRvb96"
      },
      "outputs": [],
      "source": [
        "#confusion matrix\n",
        "cm_svc = confusion_matrix(Y_test, Y_pred_svc)"
      ]
    },
    {
      "cell_type": "code",
      "execution_count": null,
      "metadata": {
        "colab": {
          "base_uri": "https://localhost:8080/"
        },
        "id": "GGSSQPAAvpru",
        "outputId": "131a2772-04dc-403d-fe0a-0873e72373a4"
      },
      "outputs": [
        {
          "output_type": "stream",
          "name": "stdout",
          "text": [
            "9521 3897 1682 17677\n"
          ]
        }
      ],
      "source": [
        "tn, fp, fn, tp = confusion_matrix(Y_test, Y_pred_svc).ravel()\n",
        "print(tn, fp, fn, tp)"
      ]
    },
    {
      "cell_type": "code",
      "execution_count": null,
      "metadata": {
        "colab": {
          "base_uri": "https://localhost:8080/"
        },
        "id": "NeeDngtEv6KK",
        "outputId": "a34bdf26-c57e-4eeb-f385-32e2e0165d6a"
      },
      "outputs": [
        {
          "output_type": "stream",
          "name": "stdout",
          "text": [
            "0.9131 0.7096\n"
          ]
        }
      ],
      "source": [
        "#True positive and true negative rates\n",
        "tpr_svc = round(tp/(tp+fn), 4)\n",
        "tnr_svc = round(tn/(tn+fp), 4)\n",
        "print(tpr_svc, tnr_svc)"
      ]
    },
    {
      "cell_type": "code",
      "source": [
        "#Vectorizing the text data with trigram\n",
        "cv = CountVectorizer(ngram_range=(1, 3))\n",
        "ctmTr = cv.fit_transform(X_train)\n",
        "X_test_dtm = cv.transform(X_test)"
      ],
      "metadata": {
        "id": "Kl7zPQWpgm4l"
      },
      "execution_count": null,
      "outputs": []
    },
    {
      "cell_type": "code",
      "source": [
        "#Training the model\n",
        "svclc =  svm.SVC()\n",
        "svclc.fit(ctmTr, Y_train)"
      ],
      "metadata": {
        "id": "vl_rX6S5hoJB"
      },
      "execution_count": null,
      "outputs": []
    },
    {
      "cell_type": "code",
      "execution_count": null,
      "metadata": {
        "id": "zUsAHmgnwgU5"
      },
      "outputs": [],
      "source": [
        "#random forest\n",
        "from sklearn.ensemble import RandomForestClassifier"
      ]
    },
    {
      "cell_type": "code",
      "execution_count": null,
      "metadata": {
        "id": "nl2Z_75uM47g"
      },
      "outputs": [],
      "source": [
        "#split data into train and test part\n",
        "X_train, X_test, Y_train, Y_test= train_test_split(X, Y, test_size=0.25, random_state=0)"
      ]
    },
    {
      "cell_type": "code",
      "execution_count": null,
      "metadata": {
        "id": "xqUiFQspM481"
      },
      "outputs": [],
      "source": [
        "#Vectorizing data with bigram\n",
        "cv = CountVectorizer(ngram_range=(1, 2))\n",
        "ctmTr = cv.fit_transform(X_train)\n",
        "X_test_dtm = cv.transform(X_test)"
      ]
    },
    {
      "cell_type": "code",
      "execution_count": null,
      "metadata": {
        "colab": {
          "base_uri": "https://localhost:8080/"
        },
        "id": "jWSM4k27z4t0",
        "outputId": "a2a16658-bc54-4fbe-fdb4-33fb89e37268"
      },
      "outputs": [
        {
          "data": {
            "text/plain": [
              "RandomForestClassifier(n_estimators=50)"
            ]
          },
          "execution_count": 61,
          "metadata": {},
          "output_type": "execute_result"
        }
      ],
      "source": [
        "#Training the model\n",
        "forestc = RandomForestClassifier(n_estimators=50)\n",
        "forestc.fit(ctmTr, Y_train)\n",
        "\n"
      ]
    },
    {
      "cell_type": "code",
      "execution_count": null,
      "metadata": {
        "colab": {
          "base_uri": "https://localhost:8080/"
        },
        "id": "EkiNNNUuq0-k",
        "outputId": "b47400eb-06d4-4ba6-d996-13fee28073e7"
      },
      "outputs": [
        {
          "name": "stdout",
          "output_type": "stream",
          "text": [
            "Results for Random Forest Classifier with CountVectorizer\n",
            "0.8105988955670135\n"
          ]
        }
      ],
      "source": [
        "#Accuracy score\n",
        "forestc_score = forestc.score(X_test_dtm, Y_test)\n",
        "print(\"Results for Random Forest Classifier with CountVectorizer\")\n",
        "print(forestc_score)"
      ]
    },
    {
      "cell_type": "code",
      "execution_count": null,
      "metadata": {
        "id": "pZkgw0JcruHw"
      },
      "outputs": [],
      "source": [
        "#predicting the labels for test data\n",
        "Y_pred_forestc= forestc.predict(X_test_dtm)"
      ]
    },
    {
      "cell_type": "code",
      "execution_count": null,
      "metadata": {
        "id": "7SwdKR6wsO72"
      },
      "outputs": [],
      "source": [
        "#confusion matrix\n",
        "cm_forestc = confusion_matrix(Y_test, Y_pred_forestc)\n"
      ]
    },
    {
      "cell_type": "code",
      "execution_count": null,
      "metadata": {
        "colab": {
          "base_uri": "https://localhost:8080/"
        },
        "id": "eN4KOzSpsjFl",
        "outputId": "9d723a5d-d93b-495e-8248-8c689bafe8cc"
      },
      "outputs": [
        {
          "name": "stdout",
          "output_type": "stream",
          "text": [
            "8645 4773 1435 17924\n"
          ]
        }
      ],
      "source": [
        "tn, fp, fn, tp = confusion_matrix(Y_test, Y_pred_forestc).ravel()\n",
        "print(tn, fp, fn, tp)"
      ]
    },
    {
      "cell_type": "code",
      "execution_count": null,
      "metadata": {
        "colab": {
          "base_uri": "https://localhost:8080/"
        },
        "id": "Y5hD2NUwssFW",
        "outputId": "bfc650a7-e4ee-4dec-e55d-2f9bb860595a"
      },
      "outputs": [
        {
          "name": "stdout",
          "output_type": "stream",
          "text": [
            "0.9259 0.6443\n"
          ]
        }
      ],
      "source": [
        "#true positive and true negative rates\n",
        "tpr_forestc = round(tp/(tp + fn), 4)\n",
        "tnr_forestc = round(tn/(tn+fp), 4)\n",
        "print(tpr_forestc, tnr_forestc)"
      ]
    },
    {
      "cell_type": "code",
      "execution_count": null,
      "metadata": {
        "id": "vDQOmlL1yywP"
      },
      "outputs": [],
      "source": [
        "#Vectorizing data with trigram\n",
        "cv = CountVectorizer(ngram_range=(1, 3))\n",
        "ctmTr = cv.fit_transform(X_train)\n",
        "X_test_dtm = cv.transform(X_test)"
      ]
    },
    {
      "cell_type": "code",
      "execution_count": null,
      "metadata": {
        "id": "N1UbPfgy0Z-o",
        "outputId": "47cf376e-3a88-4996-967f-46b89de92a25",
        "colab": {
          "base_uri": "https://localhost:8080/",
          "height": 347
        }
      },
      "outputs": [
        {
          "output_type": "error",
          "ename": "KeyboardInterrupt",
          "evalue": "ignored",
          "traceback": [
            "\u001b[0;31m---------------------------------------------------------------------------\u001b[0m",
            "\u001b[0;31mKeyboardInterrupt\u001b[0m                         Traceback (most recent call last)",
            "\u001b[0;32m<ipython-input-44-9314c1d50a28>\u001b[0m in \u001b[0;36m<module>\u001b[0;34m()\u001b[0m\n\u001b[1;32m      1\u001b[0m \u001b[0;31m#Training the model\u001b[0m\u001b[0;34m\u001b[0m\u001b[0;34m\u001b[0m\u001b[0;34m\u001b[0m\u001b[0m\n\u001b[1;32m      2\u001b[0m \u001b[0mforestc\u001b[0m \u001b[0;34m=\u001b[0m \u001b[0mRandomForestClassifier\u001b[0m\u001b[0;34m(\u001b[0m\u001b[0mn_estimators\u001b[0m\u001b[0;34m=\u001b[0m\u001b[0;36m50\u001b[0m\u001b[0;34m)\u001b[0m\u001b[0;34m\u001b[0m\u001b[0;34m\u001b[0m\u001b[0m\n\u001b[0;32m----> 3\u001b[0;31m \u001b[0mforestc\u001b[0m\u001b[0;34m.\u001b[0m\u001b[0mfit\u001b[0m\u001b[0;34m(\u001b[0m\u001b[0mctmTr\u001b[0m\u001b[0;34m,\u001b[0m \u001b[0mY_train\u001b[0m\u001b[0;34m)\u001b[0m\u001b[0;34m\u001b[0m\u001b[0;34m\u001b[0m\u001b[0m\n\u001b[0m",
            "\u001b[0;32m/usr/local/lib/python3.7/dist-packages/sklearn/ensemble/_forest.py\u001b[0m in \u001b[0;36mfit\u001b[0;34m(self, X, y, sample_weight)\u001b[0m\n\u001b[1;32m    465\u001b[0m                     \u001b[0mn_samples_bootstrap\u001b[0m\u001b[0;34m=\u001b[0m\u001b[0mn_samples_bootstrap\u001b[0m\u001b[0;34m,\u001b[0m\u001b[0;34m\u001b[0m\u001b[0;34m\u001b[0m\u001b[0m\n\u001b[1;32m    466\u001b[0m                 )\n\u001b[0;32m--> 467\u001b[0;31m                 \u001b[0;32mfor\u001b[0m \u001b[0mi\u001b[0m\u001b[0;34m,\u001b[0m \u001b[0mt\u001b[0m \u001b[0;32min\u001b[0m \u001b[0menumerate\u001b[0m\u001b[0;34m(\u001b[0m\u001b[0mtrees\u001b[0m\u001b[0;34m)\u001b[0m\u001b[0;34m\u001b[0m\u001b[0;34m\u001b[0m\u001b[0m\n\u001b[0m\u001b[1;32m    468\u001b[0m             )\n\u001b[1;32m    469\u001b[0m \u001b[0;34m\u001b[0m\u001b[0m\n",
            "\u001b[0;32m/usr/local/lib/python3.7/dist-packages/joblib/parallel.py\u001b[0m in \u001b[0;36m__call__\u001b[0;34m(self, iterable)\u001b[0m\n\u001b[1;32m   1044\u001b[0m                 \u001b[0mself\u001b[0m\u001b[0;34m.\u001b[0m\u001b[0m_iterating\u001b[0m \u001b[0;34m=\u001b[0m \u001b[0mself\u001b[0m\u001b[0;34m.\u001b[0m\u001b[0m_original_iterator\u001b[0m \u001b[0;32mis\u001b[0m \u001b[0;32mnot\u001b[0m \u001b[0;32mNone\u001b[0m\u001b[0;34m\u001b[0m\u001b[0;34m\u001b[0m\u001b[0m\n\u001b[1;32m   1045\u001b[0m \u001b[0;34m\u001b[0m\u001b[0m\n\u001b[0;32m-> 1046\u001b[0;31m             \u001b[0;32mwhile\u001b[0m \u001b[0mself\u001b[0m\u001b[0;34m.\u001b[0m\u001b[0mdispatch_one_batch\u001b[0m\u001b[0;34m(\u001b[0m\u001b[0miterator\u001b[0m\u001b[0;34m)\u001b[0m\u001b[0;34m:\u001b[0m\u001b[0;34m\u001b[0m\u001b[0;34m\u001b[0m\u001b[0m\n\u001b[0m\u001b[1;32m   1047\u001b[0m                 \u001b[0;32mpass\u001b[0m\u001b[0;34m\u001b[0m\u001b[0;34m\u001b[0m\u001b[0m\n\u001b[1;32m   1048\u001b[0m \u001b[0;34m\u001b[0m\u001b[0m\n",
            "\u001b[0;32m/usr/local/lib/python3.7/dist-packages/joblib/parallel.py\u001b[0m in \u001b[0;36mdispatch_one_batch\u001b[0;34m(self, iterator)\u001b[0m\n\u001b[1;32m    859\u001b[0m                 \u001b[0;32mreturn\u001b[0m \u001b[0;32mFalse\u001b[0m\u001b[0;34m\u001b[0m\u001b[0;34m\u001b[0m\u001b[0m\n\u001b[1;32m    860\u001b[0m             \u001b[0;32melse\u001b[0m\u001b[0;34m:\u001b[0m\u001b[0;34m\u001b[0m\u001b[0;34m\u001b[0m\u001b[0m\n\u001b[0;32m--> 861\u001b[0;31m                 \u001b[0mself\u001b[0m\u001b[0;34m.\u001b[0m\u001b[0m_dispatch\u001b[0m\u001b[0;34m(\u001b[0m\u001b[0mtasks\u001b[0m\u001b[0;34m)\u001b[0m\u001b[0;34m\u001b[0m\u001b[0;34m\u001b[0m\u001b[0m\n\u001b[0m\u001b[1;32m    862\u001b[0m                 \u001b[0;32mreturn\u001b[0m \u001b[0;32mTrue\u001b[0m\u001b[0;34m\u001b[0m\u001b[0;34m\u001b[0m\u001b[0m\n\u001b[1;32m    863\u001b[0m \u001b[0;34m\u001b[0m\u001b[0m\n",
            "\u001b[0;32m/usr/local/lib/python3.7/dist-packages/joblib/parallel.py\u001b[0m in \u001b[0;36m_dispatch\u001b[0;34m(self, batch)\u001b[0m\n\u001b[1;32m    777\u001b[0m         \u001b[0;32mwith\u001b[0m \u001b[0mself\u001b[0m\u001b[0;34m.\u001b[0m\u001b[0m_lock\u001b[0m\u001b[0;34m:\u001b[0m\u001b[0;34m\u001b[0m\u001b[0;34m\u001b[0m\u001b[0m\n\u001b[1;32m    778\u001b[0m             \u001b[0mjob_idx\u001b[0m \u001b[0;34m=\u001b[0m \u001b[0mlen\u001b[0m\u001b[0;34m(\u001b[0m\u001b[0mself\u001b[0m\u001b[0;34m.\u001b[0m\u001b[0m_jobs\u001b[0m\u001b[0;34m)\u001b[0m\u001b[0;34m\u001b[0m\u001b[0;34m\u001b[0m\u001b[0m\n\u001b[0;32m--> 779\u001b[0;31m             \u001b[0mjob\u001b[0m \u001b[0;34m=\u001b[0m \u001b[0mself\u001b[0m\u001b[0;34m.\u001b[0m\u001b[0m_backend\u001b[0m\u001b[0;34m.\u001b[0m\u001b[0mapply_async\u001b[0m\u001b[0;34m(\u001b[0m\u001b[0mbatch\u001b[0m\u001b[0;34m,\u001b[0m \u001b[0mcallback\u001b[0m\u001b[0;34m=\u001b[0m\u001b[0mcb\u001b[0m\u001b[0;34m)\u001b[0m\u001b[0;34m\u001b[0m\u001b[0;34m\u001b[0m\u001b[0m\n\u001b[0m\u001b[1;32m    780\u001b[0m             \u001b[0;31m# A job can complete so quickly than its callback is\u001b[0m\u001b[0;34m\u001b[0m\u001b[0;34m\u001b[0m\u001b[0;34m\u001b[0m\u001b[0m\n\u001b[1;32m    781\u001b[0m             \u001b[0;31m# called before we get here, causing self._jobs to\u001b[0m\u001b[0;34m\u001b[0m\u001b[0;34m\u001b[0m\u001b[0;34m\u001b[0m\u001b[0m\n",
            "\u001b[0;32m/usr/local/lib/python3.7/dist-packages/joblib/_parallel_backends.py\u001b[0m in \u001b[0;36mapply_async\u001b[0;34m(self, func, callback)\u001b[0m\n\u001b[1;32m    206\u001b[0m     \u001b[0;32mdef\u001b[0m \u001b[0mapply_async\u001b[0m\u001b[0;34m(\u001b[0m\u001b[0mself\u001b[0m\u001b[0;34m,\u001b[0m \u001b[0mfunc\u001b[0m\u001b[0;34m,\u001b[0m \u001b[0mcallback\u001b[0m\u001b[0;34m=\u001b[0m\u001b[0;32mNone\u001b[0m\u001b[0;34m)\u001b[0m\u001b[0;34m:\u001b[0m\u001b[0;34m\u001b[0m\u001b[0;34m\u001b[0m\u001b[0m\n\u001b[1;32m    207\u001b[0m         \u001b[0;34m\"\"\"Schedule a func to be run\"\"\"\u001b[0m\u001b[0;34m\u001b[0m\u001b[0;34m\u001b[0m\u001b[0m\n\u001b[0;32m--> 208\u001b[0;31m         \u001b[0mresult\u001b[0m \u001b[0;34m=\u001b[0m \u001b[0mImmediateResult\u001b[0m\u001b[0;34m(\u001b[0m\u001b[0mfunc\u001b[0m\u001b[0;34m)\u001b[0m\u001b[0;34m\u001b[0m\u001b[0;34m\u001b[0m\u001b[0m\n\u001b[0m\u001b[1;32m    209\u001b[0m         \u001b[0;32mif\u001b[0m \u001b[0mcallback\u001b[0m\u001b[0;34m:\u001b[0m\u001b[0;34m\u001b[0m\u001b[0;34m\u001b[0m\u001b[0m\n\u001b[1;32m    210\u001b[0m             \u001b[0mcallback\u001b[0m\u001b[0;34m(\u001b[0m\u001b[0mresult\u001b[0m\u001b[0;34m)\u001b[0m\u001b[0;34m\u001b[0m\u001b[0;34m\u001b[0m\u001b[0m\n",
            "\u001b[0;32m/usr/local/lib/python3.7/dist-packages/joblib/_parallel_backends.py\u001b[0m in \u001b[0;36m__init__\u001b[0;34m(self, batch)\u001b[0m\n\u001b[1;32m    570\u001b[0m         \u001b[0;31m# Don't delay the application, to avoid keeping the input\u001b[0m\u001b[0;34m\u001b[0m\u001b[0;34m\u001b[0m\u001b[0;34m\u001b[0m\u001b[0m\n\u001b[1;32m    571\u001b[0m         \u001b[0;31m# arguments in memory\u001b[0m\u001b[0;34m\u001b[0m\u001b[0;34m\u001b[0m\u001b[0;34m\u001b[0m\u001b[0m\n\u001b[0;32m--> 572\u001b[0;31m         \u001b[0mself\u001b[0m\u001b[0;34m.\u001b[0m\u001b[0mresults\u001b[0m \u001b[0;34m=\u001b[0m \u001b[0mbatch\u001b[0m\u001b[0;34m(\u001b[0m\u001b[0;34m)\u001b[0m\u001b[0;34m\u001b[0m\u001b[0;34m\u001b[0m\u001b[0m\n\u001b[0m\u001b[1;32m    573\u001b[0m \u001b[0;34m\u001b[0m\u001b[0m\n\u001b[1;32m    574\u001b[0m     \u001b[0;32mdef\u001b[0m \u001b[0mget\u001b[0m\u001b[0;34m(\u001b[0m\u001b[0mself\u001b[0m\u001b[0;34m)\u001b[0m\u001b[0;34m:\u001b[0m\u001b[0;34m\u001b[0m\u001b[0;34m\u001b[0m\u001b[0m\n",
            "\u001b[0;32m/usr/local/lib/python3.7/dist-packages/joblib/parallel.py\u001b[0m in \u001b[0;36m__call__\u001b[0;34m(self)\u001b[0m\n\u001b[1;32m    261\u001b[0m         \u001b[0;32mwith\u001b[0m \u001b[0mparallel_backend\u001b[0m\u001b[0;34m(\u001b[0m\u001b[0mself\u001b[0m\u001b[0;34m.\u001b[0m\u001b[0m_backend\u001b[0m\u001b[0;34m,\u001b[0m \u001b[0mn_jobs\u001b[0m\u001b[0;34m=\u001b[0m\u001b[0mself\u001b[0m\u001b[0;34m.\u001b[0m\u001b[0m_n_jobs\u001b[0m\u001b[0;34m)\u001b[0m\u001b[0;34m:\u001b[0m\u001b[0;34m\u001b[0m\u001b[0;34m\u001b[0m\u001b[0m\n\u001b[1;32m    262\u001b[0m             return [func(*args, **kwargs)\n\u001b[0;32m--> 263\u001b[0;31m                     for func, args, kwargs in self.items]\n\u001b[0m\u001b[1;32m    264\u001b[0m \u001b[0;34m\u001b[0m\u001b[0m\n\u001b[1;32m    265\u001b[0m     \u001b[0;32mdef\u001b[0m \u001b[0m__reduce__\u001b[0m\u001b[0;34m(\u001b[0m\u001b[0mself\u001b[0m\u001b[0;34m)\u001b[0m\u001b[0;34m:\u001b[0m\u001b[0;34m\u001b[0m\u001b[0;34m\u001b[0m\u001b[0m\n",
            "\u001b[0;32m/usr/local/lib/python3.7/dist-packages/joblib/parallel.py\u001b[0m in \u001b[0;36m<listcomp>\u001b[0;34m(.0)\u001b[0m\n\u001b[1;32m    261\u001b[0m         \u001b[0;32mwith\u001b[0m \u001b[0mparallel_backend\u001b[0m\u001b[0;34m(\u001b[0m\u001b[0mself\u001b[0m\u001b[0;34m.\u001b[0m\u001b[0m_backend\u001b[0m\u001b[0;34m,\u001b[0m \u001b[0mn_jobs\u001b[0m\u001b[0;34m=\u001b[0m\u001b[0mself\u001b[0m\u001b[0;34m.\u001b[0m\u001b[0m_n_jobs\u001b[0m\u001b[0;34m)\u001b[0m\u001b[0;34m:\u001b[0m\u001b[0;34m\u001b[0m\u001b[0;34m\u001b[0m\u001b[0m\n\u001b[1;32m    262\u001b[0m             return [func(*args, **kwargs)\n\u001b[0;32m--> 263\u001b[0;31m                     for func, args, kwargs in self.items]\n\u001b[0m\u001b[1;32m    264\u001b[0m \u001b[0;34m\u001b[0m\u001b[0m\n\u001b[1;32m    265\u001b[0m     \u001b[0;32mdef\u001b[0m \u001b[0m__reduce__\u001b[0m\u001b[0;34m(\u001b[0m\u001b[0mself\u001b[0m\u001b[0;34m)\u001b[0m\u001b[0;34m:\u001b[0m\u001b[0;34m\u001b[0m\u001b[0;34m\u001b[0m\u001b[0m\n",
            "\u001b[0;32m/usr/local/lib/python3.7/dist-packages/sklearn/utils/fixes.py\u001b[0m in \u001b[0;36m__call__\u001b[0;34m(self, *args, **kwargs)\u001b[0m\n\u001b[1;32m    214\u001b[0m     \u001b[0;32mdef\u001b[0m \u001b[0m__call__\u001b[0m\u001b[0;34m(\u001b[0m\u001b[0mself\u001b[0m\u001b[0;34m,\u001b[0m \u001b[0;34m*\u001b[0m\u001b[0margs\u001b[0m\u001b[0;34m,\u001b[0m \u001b[0;34m**\u001b[0m\u001b[0mkwargs\u001b[0m\u001b[0;34m)\u001b[0m\u001b[0;34m:\u001b[0m\u001b[0;34m\u001b[0m\u001b[0;34m\u001b[0m\u001b[0m\n\u001b[1;32m    215\u001b[0m         \u001b[0;32mwith\u001b[0m \u001b[0mconfig_context\u001b[0m\u001b[0;34m(\u001b[0m\u001b[0;34m**\u001b[0m\u001b[0mself\u001b[0m\u001b[0;34m.\u001b[0m\u001b[0mconfig\u001b[0m\u001b[0;34m)\u001b[0m\u001b[0;34m:\u001b[0m\u001b[0;34m\u001b[0m\u001b[0;34m\u001b[0m\u001b[0m\n\u001b[0;32m--> 216\u001b[0;31m             \u001b[0;32mreturn\u001b[0m \u001b[0mself\u001b[0m\u001b[0;34m.\u001b[0m\u001b[0mfunction\u001b[0m\u001b[0;34m(\u001b[0m\u001b[0;34m*\u001b[0m\u001b[0margs\u001b[0m\u001b[0;34m,\u001b[0m \u001b[0;34m**\u001b[0m\u001b[0mkwargs\u001b[0m\u001b[0;34m)\u001b[0m\u001b[0;34m\u001b[0m\u001b[0;34m\u001b[0m\u001b[0m\n\u001b[0m\u001b[1;32m    217\u001b[0m \u001b[0;34m\u001b[0m\u001b[0m\n\u001b[1;32m    218\u001b[0m \u001b[0;34m\u001b[0m\u001b[0m\n",
            "\u001b[0;32m/usr/local/lib/python3.7/dist-packages/sklearn/ensemble/_forest.py\u001b[0m in \u001b[0;36m_parallel_build_trees\u001b[0;34m(tree, forest, X, y, sample_weight, tree_idx, n_trees, verbose, class_weight, n_samples_bootstrap)\u001b[0m\n\u001b[1;32m    183\u001b[0m             \u001b[0mcurr_sample_weight\u001b[0m \u001b[0;34m*=\u001b[0m \u001b[0mcompute_sample_weight\u001b[0m\u001b[0;34m(\u001b[0m\u001b[0;34m\"balanced\"\u001b[0m\u001b[0;34m,\u001b[0m \u001b[0my\u001b[0m\u001b[0;34m,\u001b[0m \u001b[0mindices\u001b[0m\u001b[0;34m=\u001b[0m\u001b[0mindices\u001b[0m\u001b[0;34m)\u001b[0m\u001b[0;34m\u001b[0m\u001b[0;34m\u001b[0m\u001b[0m\n\u001b[1;32m    184\u001b[0m \u001b[0;34m\u001b[0m\u001b[0m\n\u001b[0;32m--> 185\u001b[0;31m         \u001b[0mtree\u001b[0m\u001b[0;34m.\u001b[0m\u001b[0mfit\u001b[0m\u001b[0;34m(\u001b[0m\u001b[0mX\u001b[0m\u001b[0;34m,\u001b[0m \u001b[0my\u001b[0m\u001b[0;34m,\u001b[0m \u001b[0msample_weight\u001b[0m\u001b[0;34m=\u001b[0m\u001b[0mcurr_sample_weight\u001b[0m\u001b[0;34m,\u001b[0m \u001b[0mcheck_input\u001b[0m\u001b[0;34m=\u001b[0m\u001b[0;32mFalse\u001b[0m\u001b[0;34m)\u001b[0m\u001b[0;34m\u001b[0m\u001b[0;34m\u001b[0m\u001b[0m\n\u001b[0m\u001b[1;32m    186\u001b[0m     \u001b[0;32melse\u001b[0m\u001b[0;34m:\u001b[0m\u001b[0;34m\u001b[0m\u001b[0;34m\u001b[0m\u001b[0m\n\u001b[1;32m    187\u001b[0m         \u001b[0mtree\u001b[0m\u001b[0;34m.\u001b[0m\u001b[0mfit\u001b[0m\u001b[0;34m(\u001b[0m\u001b[0mX\u001b[0m\u001b[0;34m,\u001b[0m \u001b[0my\u001b[0m\u001b[0;34m,\u001b[0m \u001b[0msample_weight\u001b[0m\u001b[0;34m=\u001b[0m\u001b[0msample_weight\u001b[0m\u001b[0;34m,\u001b[0m \u001b[0mcheck_input\u001b[0m\u001b[0;34m=\u001b[0m\u001b[0;32mFalse\u001b[0m\u001b[0;34m)\u001b[0m\u001b[0;34m\u001b[0m\u001b[0;34m\u001b[0m\u001b[0m\n",
            "\u001b[0;32m/usr/local/lib/python3.7/dist-packages/sklearn/tree/_classes.py\u001b[0m in \u001b[0;36mfit\u001b[0;34m(self, X, y, sample_weight, check_input, X_idx_sorted)\u001b[0m\n\u001b[1;32m    940\u001b[0m             \u001b[0msample_weight\u001b[0m\u001b[0;34m=\u001b[0m\u001b[0msample_weight\u001b[0m\u001b[0;34m,\u001b[0m\u001b[0;34m\u001b[0m\u001b[0;34m\u001b[0m\u001b[0m\n\u001b[1;32m    941\u001b[0m             \u001b[0mcheck_input\u001b[0m\u001b[0;34m=\u001b[0m\u001b[0mcheck_input\u001b[0m\u001b[0;34m,\u001b[0m\u001b[0;34m\u001b[0m\u001b[0;34m\u001b[0m\u001b[0m\n\u001b[0;32m--> 942\u001b[0;31m             \u001b[0mX_idx_sorted\u001b[0m\u001b[0;34m=\u001b[0m\u001b[0mX_idx_sorted\u001b[0m\u001b[0;34m,\u001b[0m\u001b[0;34m\u001b[0m\u001b[0;34m\u001b[0m\u001b[0m\n\u001b[0m\u001b[1;32m    943\u001b[0m         )\n\u001b[1;32m    944\u001b[0m         \u001b[0;32mreturn\u001b[0m \u001b[0mself\u001b[0m\u001b[0;34m\u001b[0m\u001b[0;34m\u001b[0m\u001b[0m\n",
            "\u001b[0;32m/usr/local/lib/python3.7/dist-packages/sklearn/tree/_classes.py\u001b[0m in \u001b[0;36mfit\u001b[0;34m(self, X, y, sample_weight, check_input, X_idx_sorted)\u001b[0m\n\u001b[1;32m    418\u001b[0m             )\n\u001b[1;32m    419\u001b[0m \u001b[0;34m\u001b[0m\u001b[0m\n\u001b[0;32m--> 420\u001b[0;31m         \u001b[0mbuilder\u001b[0m\u001b[0;34m.\u001b[0m\u001b[0mbuild\u001b[0m\u001b[0;34m(\u001b[0m\u001b[0mself\u001b[0m\u001b[0;34m.\u001b[0m\u001b[0mtree_\u001b[0m\u001b[0;34m,\u001b[0m \u001b[0mX\u001b[0m\u001b[0;34m,\u001b[0m \u001b[0my\u001b[0m\u001b[0;34m,\u001b[0m \u001b[0msample_weight\u001b[0m\u001b[0;34m)\u001b[0m\u001b[0;34m\u001b[0m\u001b[0;34m\u001b[0m\u001b[0m\n\u001b[0m\u001b[1;32m    421\u001b[0m \u001b[0;34m\u001b[0m\u001b[0m\n\u001b[1;32m    422\u001b[0m         \u001b[0;32mif\u001b[0m \u001b[0mself\u001b[0m\u001b[0;34m.\u001b[0m\u001b[0mn_outputs_\u001b[0m \u001b[0;34m==\u001b[0m \u001b[0;36m1\u001b[0m \u001b[0;32mand\u001b[0m \u001b[0mis_classifier\u001b[0m\u001b[0;34m(\u001b[0m\u001b[0mself\u001b[0m\u001b[0;34m)\u001b[0m\u001b[0;34m:\u001b[0m\u001b[0;34m\u001b[0m\u001b[0;34m\u001b[0m\u001b[0m\n",
            "\u001b[0;31mKeyboardInterrupt\u001b[0m: "
          ]
        }
      ],
      "source": [
        "#Training the model\n",
        "forestc = RandomForestClassifier(n_estimators=50)\n",
        "forestc.fit(ctmTr, Y_train)"
      ]
    },
    {
      "cell_type": "code",
      "execution_count": null,
      "metadata": {
        "id": "rUmiFUJjHLCD"
      },
      "outputs": [],
      "source": [
        "#Tfidf Vectorizer\n",
        "X_train, X_test, Y_train, Y_test= train_test_split(X, Y, test_size=0.25, random_state=0)\n"
      ]
    },
    {
      "cell_type": "code",
      "execution_count": null,
      "metadata": {
        "id": "-N0qU0DbHLEK"
      },
      "outputs": [],
      "source": [
        "#import the required vectorizer\n",
        "from sklearn.feature_extraction.text import TfidfVectorizer"
      ]
    },
    {
      "cell_type": "code",
      "execution_count": null,
      "metadata": {
        "id": "Qeq8gV0K3i2b"
      },
      "outputs": [],
      "source": [
        "vectorizer = TfidfVectorizer()"
      ]
    },
    {
      "cell_type": "code",
      "execution_count": null,
      "metadata": {
        "id": "qj-Zxqr-3i4d"
      },
      "outputs": [],
      "source": [
        "#vectorizing text data\n",
        "X_train_vec = vectorizer.fit_transform(X_train)\n",
        "X_test_vec = vectorizer.transform(X_test)"
      ]
    },
    {
      "cell_type": "code",
      "execution_count": null,
      "metadata": {
        "id": "8Ie2p3WSElDT"
      },
      "outputs": [],
      "source": []
    },
    {
      "cell_type": "code",
      "execution_count": null,
      "metadata": {
        "colab": {
          "base_uri": "https://localhost:8080/"
        },
        "id": "_UeRzoYK3_iY",
        "outputId": "f304c24d-8cb5-42d7-b9a5-59b464ff1350"
      },
      "outputs": [
        {
          "data": {
            "text/plain": [
              "LogisticRegression(C=1, max_iter=500, random_state=42)"
            ]
          },
          "execution_count": 71,
          "metadata": {},
          "output_type": "execute_result"
        }
      ],
      "source": [
        "#training the model\n",
        "from sklearn.linear_model import LogisticRegression\n",
        "lr = LogisticRegression(penalty='l2',max_iter=500,C=1,random_state=42)\n",
        "lr.fit(X_train_vec, Y_train)"
      ]
    },
    {
      "cell_type": "code",
      "execution_count": null,
      "metadata": {
        "colab": {
          "base_uri": "https://localhost:8080/"
        },
        "id": "qNP9m3Ch3jHt",
        "outputId": "dd79ea5c-487a-4029-987b-e2ad709a6525"
      },
      "outputs": [
        {
          "name": "stdout",
          "output_type": "stream",
          "text": [
            "Results for logistic Regression with tfidf\n",
            "0.840833511303658\n"
          ]
        }
      ],
      "source": [
        "#Accuracy score\n",
        "lr_score = lr.score(X_test_vec, Y_test)\n",
        "print('Results for logistic Regression with tfidf')\n",
        "print(lr_score)"
      ]
    },
    {
      "cell_type": "code",
      "execution_count": null,
      "metadata": {
        "id": "CKfBJr2V5m4u"
      },
      "outputs": [],
      "source": [
        "#predicting the labels for test data\n",
        "Y_pred_lr = lr.predict(X_test_vec)"
      ]
    },
    {
      "cell_type": "code",
      "execution_count": null,
      "metadata": {
        "id": "APhdwV1e53Em"
      },
      "outputs": [],
      "source": [
        "#confusion matrix\n",
        "from sklearn.metrics import confusion_matrix\n",
        "cm_lr = confusion_matrix(Y_test, Y_pred_lr)"
      ]
    },
    {
      "cell_type": "code",
      "execution_count": null,
      "metadata": {
        "colab": {
          "base_uri": "https://localhost:8080/"
        },
        "id": "ZY47W8PA6bzT",
        "outputId": "88f2beb5-c2f0-48b6-858f-4ee28193d8f5"
      },
      "outputs": [
        {
          "name": "stdout",
          "output_type": "stream",
          "text": [
            "10265 3153 2064 17295\n",
            "0.8934 0.765\n"
          ]
        }
      ],
      "source": [
        "#True positive and true negative rates\n",
        "tn, fp, fn, tp = confusion_matrix(Y_test, Y_pred_lr).ravel()\n",
        "print(tn, fp, fn, tp)\n",
        "tpr_lr = round(tp/(tp+fn), 4)\n",
        "tnr_lr= round(tn/(tn+fp), 4)\n",
        "print(tpr_lr, tnr_lr)"
      ]
    },
    {
      "cell_type": "code",
      "execution_count": null,
      "metadata": {
        "id": "jFYo-eWO7TUe"
      },
      "outputs": [],
      "source": [
        "#support Vector Machine\n",
        "#split the data into train and test part\n",
        "X_train, X_test, Y_train, Y_test= train_test_split(X, Y, test_size=0.25, random_state=0)\n"
      ]
    },
    {
      "cell_type": "code",
      "execution_count": null,
      "metadata": {
        "id": "tl0ioxsUEpif"
      },
      "outputs": [],
      "source": [
        "#vectorizing the data\n",
        "X_train_vec = vectorizer.fit_transform(X_train)\n",
        "X_test_vec = vectorizer.transform(X_test)"
      ]
    },
    {
      "cell_type": "code",
      "execution_count": null,
      "metadata": {
        "id": "H27U-XPJE2bS"
      },
      "outputs": [],
      "source": [
        "#import the required algorithm\n",
        "from sklearn import svm"
      ]
    },
    {
      "cell_type": "code",
      "execution_count": null,
      "metadata": {
        "colab": {
          "base_uri": "https://localhost:8080/"
        },
        "id": "Kj_s8gwiFa7K",
        "outputId": "8e27f95b-556e-4bfb-c174-40e83ff2b1d7"
      },
      "outputs": [
        {
          "name": "stdout",
          "output_type": "stream",
          "text": [
            "Result for Support Vector Machine with tfidf\n",
            "0.8478201177655063\n"
          ]
        }
      ],
      "source": [
        "#train the model and get the accuracy score\n",
        "#params = {'kernel': ('linear', 'rbf'), 'C':[1, 10, 100]}\n",
        "svcl = svm.SVC(kernel='rbf')\n",
        "#clf_sv = GridsearchCV(svcl, params)\n",
        "svcl.fit(X_train_vec, Y_train)\n",
        "svcl_score = svcl.score(X_test_vec, Y_test)\n",
        "print('Result for Support Vector Machine with tfidf')\n",
        "print(svcl_score)"
      ]
    },
    {
      "cell_type": "markdown",
      "metadata": {
        "id": "RcqWF0V4oKbJ"
      },
      "source": []
    },
    {
      "cell_type": "code",
      "execution_count": null,
      "metadata": {
        "id": "BVtxSb2gFbB9"
      },
      "outputs": [],
      "source": [
        "#Predicting the labels for test data\n",
        "Y_pred_sv = svcl.predict(X_test_vec)"
      ]
    },
    {
      "cell_type": "code",
      "execution_count": null,
      "metadata": {
        "id": "6w42xuOOFbDl"
      },
      "outputs": [],
      "source": [
        "#confusion matrix\n",
        "cm_sv = confusion_matrix(Y_test, Y_pred_sv)"
      ]
    },
    {
      "cell_type": "code",
      "execution_count": null,
      "metadata": {
        "colab": {
          "base_uri": "https://localhost:8080/"
        },
        "id": "3i-kXapwrWhg",
        "outputId": "8d0af3e1-ec59-4954-b098-0978422b1c32"
      },
      "outputs": [
        {
          "name": "stdout",
          "output_type": "stream",
          "text": [
            "10335 3083 1905 17454\n"
          ]
        }
      ],
      "source": [
        "tn, fp, fn, tp = confusion_matrix(Y_test, Y_pred_sv).ravel()\n",
        "print(tn, fp, fn, tp)"
      ]
    },
    {
      "cell_type": "code",
      "execution_count": null,
      "metadata": {
        "id": "wyeDPUdVrnkW"
      },
      "outputs": [],
      "source": [
        "#True positive and true negative rates\n",
        "tpr_sv = round(tp/(tp+fn), 4)\n",
        "tnr_sv = round(tn/(tn+fp), 4)"
      ]
    },
    {
      "cell_type": "code",
      "execution_count": null,
      "metadata": {
        "colab": {
          "base_uri": "https://localhost:8080/"
        },
        "id": "RsjfE9cer3U7",
        "outputId": "29f481c5-5ab1-4d27-9c07-d61de25de10d"
      },
      "outputs": [
        {
          "name": "stdout",
          "output_type": "stream",
          "text": [
            "0.9016 0.7702\n"
          ]
        }
      ],
      "source": [
        "print(tpr_sv, tnr_sv)"
      ]
    },
    {
      "cell_type": "code",
      "execution_count": null,
      "metadata": {
        "id": "rMv9QhOlr9ag"
      },
      "outputs": [],
      "source": [
        "#random forest classifier\n",
        "#split the data into train and test part\n",
        "X_train, X_test, Y_train, Y_test= train_test_split(X, Y, test_size=0.25, random_state=0)"
      ]
    },
    {
      "cell_type": "code",
      "execution_count": null,
      "metadata": {
        "id": "toAW6fzlsJot"
      },
      "outputs": [],
      "source": [
        "#vectorizing the data\n",
        "vectorizer = TfidfVectorizer()\n",
        "X_train_vec = vectorizer.fit_transform(X_train)\n",
        "X_test_vec = vectorizer.transform(X_test)"
      ]
    },
    {
      "cell_type": "code",
      "execution_count": null,
      "metadata": {
        "colab": {
          "base_uri": "https://localhost:8080/"
        },
        "id": "WiciXYS8sYai",
        "outputId": "ec90b0a2-be7c-43eb-9c5c-c112f6a86c5f"
      },
      "outputs": [
        {
          "data": {
            "text/plain": [
              "RandomForestClassifier(n_estimators=50)"
            ]
          },
          "execution_count": 87,
          "metadata": {},
          "output_type": "execute_result"
        }
      ],
      "source": [
        "#Training the model\n",
        "forest = RandomForestClassifier(n_estimators=50)\n",
        "forest.fit(X_train_vec, Y_train)"
      ]
    },
    {
      "cell_type": "code",
      "execution_count": null,
      "metadata": {
        "colab": {
          "base_uri": "https://localhost:8080/"
        },
        "id": "nraOWEDNsCTw",
        "outputId": "7d9a47f6-2388-4557-c8fe-4e1c500495f3"
      },
      "outputs": [
        {
          "name": "stdout",
          "output_type": "stream",
          "text": [
            "Results for Random Forest Classifier with tfidf\n",
            "0.8075784849132013\n"
          ]
        }
      ],
      "source": [
        "#Accuracy score\n",
        "forest_score =forest.score(X_test_vec, Y_test)\n",
        "print('Results for Random Forest Classifier with tfidf')\n",
        "print(forest_score)"
      ]
    },
    {
      "cell_type": "code",
      "execution_count": null,
      "metadata": {
        "id": "1jMm9jJP2s2S"
      },
      "outputs": [],
      "source": [
        "#predicting the labels for test data\n",
        "Y_pred_forest = forest.predict(X_test_vec)"
      ]
    },
    {
      "cell_type": "code",
      "execution_count": null,
      "metadata": {
        "id": "iAXqI1TO2Ysy"
      },
      "outputs": [],
      "source": [
        "#confusion matrix\n",
        "cm_forest= confusion_matrix(Y_test, Y_pred_forest)"
      ]
    },
    {
      "cell_type": "code",
      "execution_count": null,
      "metadata": {
        "colab": {
          "base_uri": "https://localhost:8080/"
        },
        "id": "eGFKayoA3RUs",
        "outputId": "bbaadfad-1b46-4186-9373-d96b3b28ba70"
      },
      "outputs": [
        {
          "name": "stdout",
          "output_type": "stream",
          "text": [
            "9053 4365 1942 17417\n"
          ]
        }
      ],
      "source": [
        "tn, fp, fn, tp = confusion_matrix(Y_test, Y_pred_forest).ravel()\n",
        "print(tn, fp, fn, tp)"
      ]
    },
    {
      "cell_type": "code",
      "execution_count": null,
      "metadata": {
        "colab": {
          "base_uri": "https://localhost:8080/"
        },
        "id": "xu__l8_d3jil",
        "outputId": "9719f6c2-6270-49ce-d523-7c9ca20c2cbe"
      },
      "outputs": [
        {
          "name": "stdout",
          "output_type": "stream",
          "text": [
            "0.8997 0.6747\n"
          ]
        }
      ],
      "source": [
        "#true positive and true negative rates\n",
        "tpr_forest = round(tp/(tp+fn), 4)\n",
        "tnr_forest = round(tn/(tn+fp), 4)\n",
        "print(tpr_forest, tnr_forest)"
      ]
    },
    {
      "cell_type": "code",
      "execution_count": null,
      "metadata": {
        "id": "-8NldgCRSYXW"
      },
      "outputs": [],
      "source": [
        "import pickle"
      ]
    },
    {
      "cell_type": "code",
      "execution_count": null,
      "metadata": {
        "id": "1xZEqnL_TK9A"
      },
      "outputs": [],
      "source": [
        "pickle.dump(svcl, open('svcl', 'wb'))"
      ]
    },
    {
      "cell_type": "code",
      "execution_count": null,
      "metadata": {
        "id": "_HIVftGUVt3y"
      },
      "outputs": [],
      "source": [
        "pickle.dump(lrc, open('lrc', 'wb'))"
      ]
    },
    {
      "cell_type": "markdown",
      "metadata": {
        "id": "-IdjcixLm_6A"
      },
      "source": [
        "\n"
      ]
    },
    {
      "cell_type": "markdown",
      "metadata": {
        "id": "TxOviwPim_64"
      },
      "source": [
        "### **Results**/**Limitations**/**Suggestions**\n",
        "\n",
        "\n",
        "*   The best results are provided by the logistic regression with tfidf vectorizer with and accuracy score of 84%\n",
        "\n",
        "*   The preprocessing of the dataset could be improved with the use of a spell checker\n",
        "\n",
        "\n",
        "*   Of course the combined method with the use of the lexicon except from the machine learning algorithms could improve the results\n",
        "*   bigger datasets and different algorithms could be tried for improvement\n",
        "\n",
        "\n"
      ]
    }
  ],
  "metadata": {
    "colab": {
      "provenance": []
    },
    "kernelspec": {
      "display_name": "Python 3",
      "name": "python3"
    },
    "language_info": {
      "name": "python"
    }
  },
  "nbformat": 4,
  "nbformat_minor": 0
}